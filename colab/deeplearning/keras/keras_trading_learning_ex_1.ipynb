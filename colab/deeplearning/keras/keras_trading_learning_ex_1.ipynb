{
  "nbformat": 4,
  "nbformat_minor": 0,
  "metadata": {
    "colab": {
      "name": "keras_trading_learning_ex_1.ipynb",
      "provenance": [],
      "collapsed_sections": [],
      "authorship_tag": "ABX9TyOnt/c1/M6G9lD5oYXTyuBR",
      "include_colab_link": true
    },
    "kernelspec": {
      "name": "python3",
      "display_name": "Python 3"
    }
  },
  "cells": [
    {
      "cell_type": "markdown",
      "metadata": {
        "id": "view-in-github",
        "colab_type": "text"
      },
      "source": [
        "<a href=\"https://colab.research.google.com/github/hongsamhc2/devhiiostudy/blob/main/colab/deeplearning/keras/keras_trading_learning_ex_1.ipynb\" target=\"_parent\"><img src=\"https://colab.research.google.com/assets/colab-badge.svg\" alt=\"Open In Colab\"/></a>"
      ]
    },
    {
      "cell_type": "code",
      "metadata": {
        "id": "RDL6dhwd-D5G"
      },
      "source": [
        ""
      ],
      "execution_count": 11,
      "outputs": []
    },
    {
      "cell_type": "code",
      "metadata": {
        "id": "vDZzQwZh_63v",
        "outputId": "e2a50fcc-b74a-4988-c2a9-5ab7aafeb04c",
        "colab": {
          "base_uri": "https://localhost:8080/",
          "height": 55
        }
      },
      "source": [
        "from google.colab import drive\n",
        "drive.mount('/content/drive')"
      ],
      "execution_count": 12,
      "outputs": [
        {
          "output_type": "stream",
          "text": [
            "Drive already mounted at /content/drive; to attempt to forcibly remount, call drive.mount(\"/content/drive\", force_remount=True).\n"
          ],
          "name": "stdout"
        }
      ]
    },
    {
      "cell_type": "code",
      "metadata": {
        "id": "bvIesghL_7kF"
      },
      "source": [
        "import math\n",
        "import pandas as pd\n",
        "import numpy as np\n",
        "from sklearn.preprocessing import MinMaxScaler\n",
        "from keras.models import Sequential\n",
        "from keras.layers import Dense,LSTM\n",
        "import matplotlib.pyplot as plt\n",
        "plt.style.use('fivethirtyeight')"
      ],
      "execution_count": 13,
      "outputs": []
    },
    {
      "cell_type": "code",
      "metadata": {
        "id": "pBabRkVfAtG9"
      },
      "source": [
        "df = pd.read_csv('/content/drive/My Drive/trading data/daily/DA000020.csv')"
      ],
      "execution_count": 14,
      "outputs": []
    },
    {
      "cell_type": "code",
      "metadata": {
        "id": "mfM9BUC5A0cr"
      },
      "source": [
        "df.sort_values(by='date',inplace=True)"
      ],
      "execution_count": 54,
      "outputs": []
    },
    {
      "cell_type": "code",
      "metadata": {
        "id": "bNjeONBvA16T"
      },
      "source": [
        "df_stock = df.copy()"
      ],
      "execution_count": 55,
      "outputs": []
    },
    {
      "cell_type": "code",
      "metadata": {
        "id": "ZseUg-R0A6Rr"
      },
      "source": [
        "df_stock['date'] = df_stock['date'].astype('str')\n",
        "df_stock['date'] = pd.to_datetime(df_stock['date'])\n",
        "df_stock.set_index(df_stock['date'],inplace=True)"
      ],
      "execution_count": 56,
      "outputs": []
    },
    {
      "cell_type": "code",
      "metadata": {
        "id": "q48YNg29BOOS"
      },
      "source": [
        "df_stock.drop('date',axis=1,inplace=True)"
      ],
      "execution_count": 57,
      "outputs": []
    },
    {
      "cell_type": "code",
      "metadata": {
        "id": "ApE1PJCOBWmj",
        "outputId": "c08d2320-08a3-4870-9999-ff53dd35c4a7",
        "colab": {
          "base_uri": "https://localhost:8080/",
          "height": 640
        }
      },
      "source": [
        "df_stock"
      ],
      "execution_count": 58,
      "outputs": [
        {
          "output_type": "execute_result",
          "data": {
            "text/html": [
              "<div>\n",
              "<style scoped>\n",
              "    .dataframe tbody tr th:only-of-type {\n",
              "        vertical-align: middle;\n",
              "    }\n",
              "\n",
              "    .dataframe tbody tr th {\n",
              "        vertical-align: top;\n",
              "    }\n",
              "\n",
              "    .dataframe thead th {\n",
              "        text-align: right;\n",
              "    }\n",
              "</style>\n",
              "<table border=\"1\" class=\"dataframe\">\n",
              "  <thead>\n",
              "    <tr style=\"text-align: right;\">\n",
              "      <th></th>\n",
              "      <th>time</th>\n",
              "      <th>open</th>\n",
              "      <th>high</th>\n",
              "      <th>low</th>\n",
              "      <th>close</th>\n",
              "      <th>prev</th>\n",
              "      <th>volume</th>\n",
              "      <th>tr_amount</th>\n",
              "      <th>sales_qu</th>\n",
              "      <th>purchase_qu</th>\n",
              "      <th>li_share</th>\n",
              "      <th>market_cap</th>\n",
              "      <th>fr_cu_holding</th>\n",
              "      <th>fr_cu_ratio</th>\n",
              "      <th>ad_pr_ratio</th>\n",
              "      <th>in_net_buy</th>\n",
              "      <th>up_do</th>\n",
              "      <th>up_do_ratio</th>\n",
              "      <th>deposit</th>\n",
              "      <th>st_turnover</th>\n",
              "      <th>tr_es_ratio</th>\n",
              "      <th>sign</th>\n",
              "    </tr>\n",
              "    <tr>\n",
              "      <th>date</th>\n",
              "      <th></th>\n",
              "      <th></th>\n",
              "      <th></th>\n",
              "      <th></th>\n",
              "      <th></th>\n",
              "      <th></th>\n",
              "      <th></th>\n",
              "      <th></th>\n",
              "      <th></th>\n",
              "      <th></th>\n",
              "      <th></th>\n",
              "      <th></th>\n",
              "      <th></th>\n",
              "      <th></th>\n",
              "      <th></th>\n",
              "      <th></th>\n",
              "      <th></th>\n",
              "      <th></th>\n",
              "      <th></th>\n",
              "      <th></th>\n",
              "      <th></th>\n",
              "      <th></th>\n",
              "    </tr>\n",
              "  </thead>\n",
              "  <tbody>\n",
              "    <tr>\n",
              "      <th>1980-01-04</th>\n",
              "      <td>0</td>\n",
              "      <td>4700</td>\n",
              "      <td>4700</td>\n",
              "      <td>4700</td>\n",
              "      <td>4700</td>\n",
              "      <td>3650</td>\n",
              "      <td>0</td>\n",
              "      <td>0</td>\n",
              "      <td>0</td>\n",
              "      <td>0</td>\n",
              "      <td>0</td>\n",
              "      <td>0</td>\n",
              "      <td>0</td>\n",
              "      <td>0.00</td>\n",
              "      <td>6.59</td>\n",
              "      <td>0</td>\n",
              "      <td>0</td>\n",
              "      <td>0.0</td>\n",
              "      <td>0</td>\n",
              "      <td>0.0</td>\n",
              "      <td>0.0</td>\n",
              "      <td>32</td>\n",
              "    </tr>\n",
              "    <tr>\n",
              "      <th>1980-01-05</th>\n",
              "      <td>0</td>\n",
              "      <td>4700</td>\n",
              "      <td>4700</td>\n",
              "      <td>4700</td>\n",
              "      <td>4700</td>\n",
              "      <td>0</td>\n",
              "      <td>0</td>\n",
              "      <td>0</td>\n",
              "      <td>0</td>\n",
              "      <td>0</td>\n",
              "      <td>0</td>\n",
              "      <td>0</td>\n",
              "      <td>0</td>\n",
              "      <td>0.00</td>\n",
              "      <td>6.59</td>\n",
              "      <td>0</td>\n",
              "      <td>0</td>\n",
              "      <td>0.0</td>\n",
              "      <td>0</td>\n",
              "      <td>0.0</td>\n",
              "      <td>0.0</td>\n",
              "      <td>32</td>\n",
              "    </tr>\n",
              "    <tr>\n",
              "      <th>1980-01-07</th>\n",
              "      <td>0</td>\n",
              "      <td>4990</td>\n",
              "      <td>4990</td>\n",
              "      <td>4990</td>\n",
              "      <td>4990</td>\n",
              "      <td>290</td>\n",
              "      <td>120</td>\n",
              "      <td>0</td>\n",
              "      <td>0</td>\n",
              "      <td>0</td>\n",
              "      <td>0</td>\n",
              "      <td>0</td>\n",
              "      <td>0</td>\n",
              "      <td>0.00</td>\n",
              "      <td>6.59</td>\n",
              "      <td>0</td>\n",
              "      <td>0</td>\n",
              "      <td>0.0</td>\n",
              "      <td>0</td>\n",
              "      <td>0.0</td>\n",
              "      <td>0.0</td>\n",
              "      <td>32</td>\n",
              "    </tr>\n",
              "    <tr>\n",
              "      <th>1980-01-08</th>\n",
              "      <td>0</td>\n",
              "      <td>5290</td>\n",
              "      <td>5290</td>\n",
              "      <td>5290</td>\n",
              "      <td>5290</td>\n",
              "      <td>300</td>\n",
              "      <td>0</td>\n",
              "      <td>0</td>\n",
              "      <td>0</td>\n",
              "      <td>0</td>\n",
              "      <td>0</td>\n",
              "      <td>0</td>\n",
              "      <td>0</td>\n",
              "      <td>0.00</td>\n",
              "      <td>6.59</td>\n",
              "      <td>0</td>\n",
              "      <td>0</td>\n",
              "      <td>0.0</td>\n",
              "      <td>0</td>\n",
              "      <td>0.0</td>\n",
              "      <td>0.0</td>\n",
              "      <td>32</td>\n",
              "    </tr>\n",
              "    <tr>\n",
              "      <th>1980-01-09</th>\n",
              "      <td>0</td>\n",
              "      <td>5700</td>\n",
              "      <td>5740</td>\n",
              "      <td>5700</td>\n",
              "      <td>5700</td>\n",
              "      <td>410</td>\n",
              "      <td>190</td>\n",
              "      <td>0</td>\n",
              "      <td>0</td>\n",
              "      <td>0</td>\n",
              "      <td>0</td>\n",
              "      <td>0</td>\n",
              "      <td>0</td>\n",
              "      <td>0.00</td>\n",
              "      <td>6.59</td>\n",
              "      <td>0</td>\n",
              "      <td>0</td>\n",
              "      <td>0.0</td>\n",
              "      <td>0</td>\n",
              "      <td>0.0</td>\n",
              "      <td>0.0</td>\n",
              "      <td>32</td>\n",
              "    </tr>\n",
              "    <tr>\n",
              "      <th>...</th>\n",
              "      <td>...</td>\n",
              "      <td>...</td>\n",
              "      <td>...</td>\n",
              "      <td>...</td>\n",
              "      <td>...</td>\n",
              "      <td>...</td>\n",
              "      <td>...</td>\n",
              "      <td>...</td>\n",
              "      <td>...</td>\n",
              "      <td>...</td>\n",
              "      <td>...</td>\n",
              "      <td>...</td>\n",
              "      <td>...</td>\n",
              "      <td>...</td>\n",
              "      <td>...</td>\n",
              "      <td>...</td>\n",
              "      <td>...</td>\n",
              "      <td>...</td>\n",
              "      <td>...</td>\n",
              "      <td>...</td>\n",
              "      <td>...</td>\n",
              "      <td>...</td>\n",
              "    </tr>\n",
              "    <tr>\n",
              "      <th>2020-09-29</th>\n",
              "      <td>0</td>\n",
              "      <td>22000</td>\n",
              "      <td>22050</td>\n",
              "      <td>20700</td>\n",
              "      <td>21850</td>\n",
              "      <td>-150</td>\n",
              "      <td>551123</td>\n",
              "      <td>11831000000</td>\n",
              "      <td>298463</td>\n",
              "      <td>235825</td>\n",
              "      <td>27931000</td>\n",
              "      <td>610292000000</td>\n",
              "      <td>1050663</td>\n",
              "      <td>3.76</td>\n",
              "      <td>100.00</td>\n",
              "      <td>2568</td>\n",
              "      <td>0</td>\n",
              "      <td>0.0</td>\n",
              "      <td>0</td>\n",
              "      <td>0.0</td>\n",
              "      <td>0.0</td>\n",
              "      <td>53</td>\n",
              "    </tr>\n",
              "    <tr>\n",
              "      <th>2020-10-05</th>\n",
              "      <td>0</td>\n",
              "      <td>22200</td>\n",
              "      <td>24350</td>\n",
              "      <td>21700</td>\n",
              "      <td>24100</td>\n",
              "      <td>2250</td>\n",
              "      <td>1094057</td>\n",
              "      <td>25444000000</td>\n",
              "      <td>475953</td>\n",
              "      <td>595364</td>\n",
              "      <td>27931000</td>\n",
              "      <td>673137000000</td>\n",
              "      <td>992087</td>\n",
              "      <td>3.55</td>\n",
              "      <td>100.00</td>\n",
              "      <td>4716</td>\n",
              "      <td>0</td>\n",
              "      <td>0.0</td>\n",
              "      <td>0</td>\n",
              "      <td>0.0</td>\n",
              "      <td>0.0</td>\n",
              "      <td>50</td>\n",
              "    </tr>\n",
              "    <tr>\n",
              "      <th>2020-10-06</th>\n",
              "      <td>0</td>\n",
              "      <td>24100</td>\n",
              "      <td>24350</td>\n",
              "      <td>23350</td>\n",
              "      <td>23750</td>\n",
              "      <td>-350</td>\n",
              "      <td>463912</td>\n",
              "      <td>10998000000</td>\n",
              "      <td>274377</td>\n",
              "      <td>179115</td>\n",
              "      <td>27931000</td>\n",
              "      <td>663361000000</td>\n",
              "      <td>949805</td>\n",
              "      <td>3.40</td>\n",
              "      <td>100.00</td>\n",
              "      <td>-6937</td>\n",
              "      <td>0</td>\n",
              "      <td>0.0</td>\n",
              "      <td>0</td>\n",
              "      <td>0.0</td>\n",
              "      <td>0.0</td>\n",
              "      <td>53</td>\n",
              "    </tr>\n",
              "    <tr>\n",
              "      <th>2020-10-07</th>\n",
              "      <td>0</td>\n",
              "      <td>23500</td>\n",
              "      <td>23550</td>\n",
              "      <td>23100</td>\n",
              "      <td>23500</td>\n",
              "      <td>-250</td>\n",
              "      <td>322425</td>\n",
              "      <td>7531000000</td>\n",
              "      <td>178073</td>\n",
              "      <td>136676</td>\n",
              "      <td>27931000</td>\n",
              "      <td>656378000000</td>\n",
              "      <td>913076</td>\n",
              "      <td>3.27</td>\n",
              "      <td>100.00</td>\n",
              "      <td>1528</td>\n",
              "      <td>0</td>\n",
              "      <td>0.0</td>\n",
              "      <td>0</td>\n",
              "      <td>0.0</td>\n",
              "      <td>0.0</td>\n",
              "      <td>53</td>\n",
              "    </tr>\n",
              "    <tr>\n",
              "      <th>2020-10-08</th>\n",
              "      <td>0</td>\n",
              "      <td>23600</td>\n",
              "      <td>24850</td>\n",
              "      <td>23600</td>\n",
              "      <td>24150</td>\n",
              "      <td>650</td>\n",
              "      <td>699448</td>\n",
              "      <td>16980000000</td>\n",
              "      <td>312273</td>\n",
              "      <td>383482</td>\n",
              "      <td>27931000</td>\n",
              "      <td>674545000000</td>\n",
              "      <td>913076</td>\n",
              "      <td>3.27</td>\n",
              "      <td>100.00</td>\n",
              "      <td>6024</td>\n",
              "      <td>0</td>\n",
              "      <td>0.0</td>\n",
              "      <td>0</td>\n",
              "      <td>0.0</td>\n",
              "      <td>0.0</td>\n",
              "      <td>50</td>\n",
              "    </tr>\n",
              "  </tbody>\n",
              "</table>\n",
              "<p>10941 rows × 22 columns</p>\n",
              "</div>"
            ],
            "text/plain": [
              "            time   open   high    low  ...  deposit  st_turnover  tr_es_ratio  sign\n",
              "date                                   ...                                         \n",
              "1980-01-04     0   4700   4700   4700  ...        0          0.0          0.0    32\n",
              "1980-01-05     0   4700   4700   4700  ...        0          0.0          0.0    32\n",
              "1980-01-07     0   4990   4990   4990  ...        0          0.0          0.0    32\n",
              "1980-01-08     0   5290   5290   5290  ...        0          0.0          0.0    32\n",
              "1980-01-09     0   5700   5740   5700  ...        0          0.0          0.0    32\n",
              "...          ...    ...    ...    ...  ...      ...          ...          ...   ...\n",
              "2020-09-29     0  22000  22050  20700  ...        0          0.0          0.0    53\n",
              "2020-10-05     0  22200  24350  21700  ...        0          0.0          0.0    50\n",
              "2020-10-06     0  24100  24350  23350  ...        0          0.0          0.0    53\n",
              "2020-10-07     0  23500  23550  23100  ...        0          0.0          0.0    53\n",
              "2020-10-08     0  23600  24850  23600  ...        0          0.0          0.0    50\n",
              "\n",
              "[10941 rows x 22 columns]"
            ]
          },
          "metadata": {
            "tags": []
          },
          "execution_count": 58
        }
      ]
    },
    {
      "cell_type": "code",
      "metadata": {
        "id": "-RDtuzjcBZd7",
        "outputId": "abddbe3c-c472-4271-d106-081c5364eeb0",
        "colab": {
          "base_uri": "https://localhost:8080/",
          "height": 35
        }
      },
      "source": [
        "df.shape"
      ],
      "execution_count": 59,
      "outputs": [
        {
          "output_type": "execute_result",
          "data": {
            "text/plain": [
              "(10941, 23)"
            ]
          },
          "metadata": {
            "tags": []
          },
          "execution_count": 59
        }
      ]
    },
    {
      "cell_type": "code",
      "metadata": {
        "id": "z46VGprnBlyb"
      },
      "source": [
        "df_stock_default = df_stock[['high','low','open','close','volume']]"
      ],
      "execution_count": 60,
      "outputs": []
    },
    {
      "cell_type": "code",
      "metadata": {
        "id": "Hpk7LA9yB0yD",
        "outputId": "84a1eefe-6827-430e-986b-5d1dff5bc18b",
        "colab": {
          "base_uri": "https://localhost:8080/",
          "height": 450
        }
      },
      "source": [
        "df_stock_default"
      ],
      "execution_count": 62,
      "outputs": [
        {
          "output_type": "execute_result",
          "data": {
            "text/html": [
              "<div>\n",
              "<style scoped>\n",
              "    .dataframe tbody tr th:only-of-type {\n",
              "        vertical-align: middle;\n",
              "    }\n",
              "\n",
              "    .dataframe tbody tr th {\n",
              "        vertical-align: top;\n",
              "    }\n",
              "\n",
              "    .dataframe thead th {\n",
              "        text-align: right;\n",
              "    }\n",
              "</style>\n",
              "<table border=\"1\" class=\"dataframe\">\n",
              "  <thead>\n",
              "    <tr style=\"text-align: right;\">\n",
              "      <th></th>\n",
              "      <th>high</th>\n",
              "      <th>low</th>\n",
              "      <th>open</th>\n",
              "      <th>close</th>\n",
              "      <th>volume</th>\n",
              "    </tr>\n",
              "    <tr>\n",
              "      <th>date</th>\n",
              "      <th></th>\n",
              "      <th></th>\n",
              "      <th></th>\n",
              "      <th></th>\n",
              "      <th></th>\n",
              "    </tr>\n",
              "  </thead>\n",
              "  <tbody>\n",
              "    <tr>\n",
              "      <th>1980-01-04</th>\n",
              "      <td>4700</td>\n",
              "      <td>4700</td>\n",
              "      <td>4700</td>\n",
              "      <td>4700</td>\n",
              "      <td>0</td>\n",
              "    </tr>\n",
              "    <tr>\n",
              "      <th>1980-01-05</th>\n",
              "      <td>4700</td>\n",
              "      <td>4700</td>\n",
              "      <td>4700</td>\n",
              "      <td>4700</td>\n",
              "      <td>0</td>\n",
              "    </tr>\n",
              "    <tr>\n",
              "      <th>1980-01-07</th>\n",
              "      <td>4990</td>\n",
              "      <td>4990</td>\n",
              "      <td>4990</td>\n",
              "      <td>4990</td>\n",
              "      <td>120</td>\n",
              "    </tr>\n",
              "    <tr>\n",
              "      <th>1980-01-08</th>\n",
              "      <td>5290</td>\n",
              "      <td>5290</td>\n",
              "      <td>5290</td>\n",
              "      <td>5290</td>\n",
              "      <td>0</td>\n",
              "    </tr>\n",
              "    <tr>\n",
              "      <th>1980-01-09</th>\n",
              "      <td>5740</td>\n",
              "      <td>5700</td>\n",
              "      <td>5700</td>\n",
              "      <td>5700</td>\n",
              "      <td>190</td>\n",
              "    </tr>\n",
              "    <tr>\n",
              "      <th>...</th>\n",
              "      <td>...</td>\n",
              "      <td>...</td>\n",
              "      <td>...</td>\n",
              "      <td>...</td>\n",
              "      <td>...</td>\n",
              "    </tr>\n",
              "    <tr>\n",
              "      <th>2020-09-29</th>\n",
              "      <td>22050</td>\n",
              "      <td>20700</td>\n",
              "      <td>22000</td>\n",
              "      <td>21850</td>\n",
              "      <td>551123</td>\n",
              "    </tr>\n",
              "    <tr>\n",
              "      <th>2020-10-05</th>\n",
              "      <td>24350</td>\n",
              "      <td>21700</td>\n",
              "      <td>22200</td>\n",
              "      <td>24100</td>\n",
              "      <td>1094057</td>\n",
              "    </tr>\n",
              "    <tr>\n",
              "      <th>2020-10-06</th>\n",
              "      <td>24350</td>\n",
              "      <td>23350</td>\n",
              "      <td>24100</td>\n",
              "      <td>23750</td>\n",
              "      <td>463912</td>\n",
              "    </tr>\n",
              "    <tr>\n",
              "      <th>2020-10-07</th>\n",
              "      <td>23550</td>\n",
              "      <td>23100</td>\n",
              "      <td>23500</td>\n",
              "      <td>23500</td>\n",
              "      <td>322425</td>\n",
              "    </tr>\n",
              "    <tr>\n",
              "      <th>2020-10-08</th>\n",
              "      <td>24850</td>\n",
              "      <td>23600</td>\n",
              "      <td>23600</td>\n",
              "      <td>24150</td>\n",
              "      <td>699448</td>\n",
              "    </tr>\n",
              "  </tbody>\n",
              "</table>\n",
              "<p>10941 rows × 5 columns</p>\n",
              "</div>"
            ],
            "text/plain": [
              "             high    low   open  close   volume\n",
              "date                                           \n",
              "1980-01-04   4700   4700   4700   4700        0\n",
              "1980-01-05   4700   4700   4700   4700        0\n",
              "1980-01-07   4990   4990   4990   4990      120\n",
              "1980-01-08   5290   5290   5290   5290        0\n",
              "1980-01-09   5740   5700   5700   5700      190\n",
              "...           ...    ...    ...    ...      ...\n",
              "2020-09-29  22050  20700  22000  21850   551123\n",
              "2020-10-05  24350  21700  22200  24100  1094057\n",
              "2020-10-06  24350  23350  24100  23750   463912\n",
              "2020-10-07  23550  23100  23500  23500   322425\n",
              "2020-10-08  24850  23600  23600  24150   699448\n",
              "\n",
              "[10941 rows x 5 columns]"
            ]
          },
          "metadata": {
            "tags": []
          },
          "execution_count": 62
        }
      ]
    },
    {
      "cell_type": "code",
      "metadata": {
        "id": "dnq2mlQfB2pD",
        "outputId": "a7bbb2bf-ce22-4a3b-cb76-1bc03c7a4bf0",
        "colab": {
          "base_uri": "https://localhost:8080/",
          "height": 330
        }
      },
      "source": [
        "plt.figure(figsize = (16,8))\n",
        "plt.title('close price history')\n",
        "plt.plot(df_stock_default['close'])\n",
        "plt.xlabel('Date')\n",
        "plt.ylabel('close price')\n",
        "plt.show()"
      ],
      "execution_count": 63,
      "outputs": [
        {
          "output_type": "display_data",
          "data": {
            "image/png": "[encoded data removed]",
            "text/plain": [
              "<Figure size 1152x576 with 1 Axes>"
            ]
          },
          "metadata": {
            "tags": []
          }
        }
      ]
    },
    {
      "cell_type": "code",
      "metadata": {
        "id": "L0CvX6JhCJ3D"
      },
      "source": [
        "\n",
        "data = df_stock_default.filter(['close'])\n"
      ],
      "execution_count": 64,
      "outputs": []
    },
    {
      "cell_type": "code",
      "metadata": {
        "id": "ZD8UFEiTCTWb",
        "outputId": "4285889a-64be-43f1-d287-ee2f4e8ee9a8",
        "colab": {
          "base_uri": "https://localhost:8080/",
          "height": 450
        }
      },
      "source": [
        "data"
      ],
      "execution_count": 65,
      "outputs": [
        {
          "output_type": "execute_result",
          "data": {
            "text/html": [
              "<div>\n",
              "<style scoped>\n",
              "    .dataframe tbody tr th:only-of-type {\n",
              "        vertical-align: middle;\n",
              "    }\n",
              "\n",
              "    .dataframe tbody tr th {\n",
              "        vertical-align: top;\n",
              "    }\n",
              "\n",
              "    .dataframe thead th {\n",
              "        text-align: right;\n",
              "    }\n",
              "</style>\n",
              "<table border=\"1\" class=\"dataframe\">\n",
              "  <thead>\n",
              "    <tr style=\"text-align: right;\">\n",
              "      <th></th>\n",
              "      <th>close</th>\n",
              "    </tr>\n",
              "    <tr>\n",
              "      <th>date</th>\n",
              "      <th></th>\n",
              "    </tr>\n",
              "  </thead>\n",
              "  <tbody>\n",
              "    <tr>\n",
              "      <th>1980-01-04</th>\n",
              "      <td>4700</td>\n",
              "    </tr>\n",
              "    <tr>\n",
              "      <th>1980-01-05</th>\n",
              "      <td>4700</td>\n",
              "    </tr>\n",
              "    <tr>\n",
              "      <th>1980-01-07</th>\n",
              "      <td>4990</td>\n",
              "    </tr>\n",
              "    <tr>\n",
              "      <th>1980-01-08</th>\n",
              "      <td>5290</td>\n",
              "    </tr>\n",
              "    <tr>\n",
              "      <th>1980-01-09</th>\n",
              "      <td>5700</td>\n",
              "    </tr>\n",
              "    <tr>\n",
              "      <th>...</th>\n",
              "      <td>...</td>\n",
              "    </tr>\n",
              "    <tr>\n",
              "      <th>2020-09-29</th>\n",
              "      <td>21850</td>\n",
              "    </tr>\n",
              "    <tr>\n",
              "      <th>2020-10-05</th>\n",
              "      <td>24100</td>\n",
              "    </tr>\n",
              "    <tr>\n",
              "      <th>2020-10-06</th>\n",
              "      <td>23750</td>\n",
              "    </tr>\n",
              "    <tr>\n",
              "      <th>2020-10-07</th>\n",
              "      <td>23500</td>\n",
              "    </tr>\n",
              "    <tr>\n",
              "      <th>2020-10-08</th>\n",
              "      <td>24150</td>\n",
              "    </tr>\n",
              "  </tbody>\n",
              "</table>\n",
              "<p>10941 rows × 1 columns</p>\n",
              "</div>"
            ],
            "text/plain": [
              "            close\n",
              "date             \n",
              "1980-01-04   4700\n",
              "1980-01-05   4700\n",
              "1980-01-07   4990\n",
              "1980-01-08   5290\n",
              "1980-01-09   5700\n",
              "...           ...\n",
              "2020-09-29  21850\n",
              "2020-10-05  24100\n",
              "2020-10-06  23750\n",
              "2020-10-07  23500\n",
              "2020-10-08  24150\n",
              "\n",
              "[10941 rows x 1 columns]"
            ]
          },
          "metadata": {
            "tags": []
          },
          "execution_count": 65
        }
      ]
    },
    {
      "cell_type": "code",
      "metadata": {
        "id": "o7isYnzBCZVr"
      },
      "source": [
        "dataset = data.values"
      ],
      "execution_count": 66,
      "outputs": []
    },
    {
      "cell_type": "code",
      "metadata": {
        "id": "yUcVqhHzCcUb",
        "outputId": "df9d2f4b-bf37-445c-931a-30979b636dfc",
        "colab": {
          "base_uri": "https://localhost:8080/",
          "height": 143
        }
      },
      "source": [
        "dataset"
      ],
      "execution_count": 67,
      "outputs": [
        {
          "output_type": "execute_result",
          "data": {
            "text/plain": [
              "array([[ 4700],\n",
              "       [ 4700],\n",
              "       [ 4990],\n",
              "       ...,\n",
              "       [23750],\n",
              "       [23500],\n",
              "       [24150]])"
            ]
          },
          "metadata": {
            "tags": []
          },
          "execution_count": 67
        }
      ]
    },
    {
      "cell_type": "code",
      "metadata": {
        "id": "MUhS05tZCdI6"
      },
      "source": [
        "training_data_len = math.ceil(len(dataset)*.8)"
      ],
      "execution_count": 68,
      "outputs": []
    },
    {
      "cell_type": "code",
      "metadata": {
        "id": "R3Sw-JjbCiSS",
        "outputId": "1aa62262-68fc-450a-ad80-dc8775565bbf",
        "colab": {
          "base_uri": "https://localhost:8080/",
          "height": 35
        }
      },
      "source": [
        "training_data_len\n"
      ],
      "execution_count": 69,
      "outputs": [
        {
          "output_type": "execute_result",
          "data": {
            "text/plain": [
              "8753"
            ]
          },
          "metadata": {
            "tags": []
          },
          "execution_count": 69
        }
      ]
    },
    {
      "cell_type": "code",
      "metadata": {
        "id": "yNQnNaCkCj-z"
      },
      "source": [
        "scaler = MinMaxScaler(feature_range=(0,1))\n",
        "scaled_data = scaler.fit_transform(dataset)"
      ],
      "execution_count": 70,
      "outputs": []
    },
    {
      "cell_type": "code",
      "metadata": {
        "id": "IP79bpF1Cwuz",
        "outputId": "e13e6fb4-2925-4f57-da86-900401ee1cee",
        "colab": {
          "base_uri": "https://localhost:8080/",
          "height": 143
        }
      },
      "source": [
        "scaled_data"
      ],
      "execution_count": 71,
      "outputs": [
        {
          "output_type": "execute_result",
          "data": {
            "text/plain": [
              "array([[0.00708422],\n",
              "       [0.00708422],\n",
              "       [0.01034522],\n",
              "       ...,\n",
              "       [0.22129765],\n",
              "       [0.21848645],\n",
              "       [0.22579557]])"
            ]
          },
          "metadata": {
            "tags": []
          },
          "execution_count": 71
        }
      ]
    },
    {
      "cell_type": "code",
      "metadata": {
        "id": "oEwgr_2ICyFD",
        "outputId": "c8044125-9ee1-4e3c-ee28-8653ec29d62b",
        "colab": {
          "base_uri": "https://localhost:8080/",
          "height": 35
        }
      },
      "source": [
        "train_data = scaled_data[0:training_data_len,:]\n",
        "train_data.shape"
      ],
      "execution_count": 72,
      "outputs": [
        {
          "output_type": "execute_result",
          "data": {
            "text/plain": [
              "(8753, 1)"
            ]
          },
          "metadata": {
            "tags": []
          },
          "execution_count": 72
        }
      ]
    },
    {
      "cell_type": "code",
      "metadata": {
        "id": "XqvgWQ95C8G7",
        "outputId": "da846bd3-ad05-4d03-dfff-e27ba048a499",
        "colab": {
          "base_uri": "https://localhost:8080/",
          "height": 269
        }
      },
      "source": [
        "x_train =[]\n",
        "y_train = []\n",
        "for i in range(60,len(train_data)):\n",
        "  x_train.append(train_data[i-60:i,0])\n",
        "  y_train.append(train_data[i,0])\n",
        "  if i<=60:\n",
        "    print(x_train)\n",
        "    print(y_train)\n",
        "    print()"
      ],
      "execution_count": 76,
      "outputs": [
        {
          "output_type": "stream",
          "text": [
            "[array([0.00708422, 0.00708422, 0.01034522, 0.01371866, 0.01832902,\n",
            "       0.01832902, 0.01765433, 0.01720454, 0.01473069, 0.01371866,\n",
            "       0.01326886, 0.01135725, 0.0110199 , 0.01045766, 0.01045766,\n",
            "       0.01045766, 0.01045766, 0.01034522, 0.01034522, 0.01034522,\n",
            "       0.00708422, 0.01045766, 0.01158214, 0.01270662, 0.01270662,\n",
            "       0.01270662, 0.01045766, 0.01045766, 0.01045766, 0.01023277,\n",
            "       0.00697178, 0.00730912, 0.01068256, 0.01068256, 0.01068256,\n",
            "       0.01068256, 0.01068256, 0.01068256, 0.01068256, 0.01068256,\n",
            "       0.01079501, 0.01079501, 0.01079501, 0.01079501, 0.01079501,\n",
            "       0.01079501, 0.0138311 , 0.01371866, 0.0138311 , 0.0138311 ,\n",
            "       0.0138311 , 0.0138311 , 0.0138311 , 0.0138311 , 0.0138311 ,\n",
            "       0.0138311 , 0.01371866, 0.0138311 , 0.0138311 , 0.0138311 ])]\n",
            "[0.013831103114809402]\n",
            "\n"
          ],
          "name": "stdout"
        }
      ]
    },
    {
      "cell_type": "code",
      "metadata": {
        "id": "IrJLaLQ7Gla0"
      },
      "source": [
        "x_train,y_train = np.array(x_train),np.array(y_train)"
      ],
      "execution_count": 77,
      "outputs": []
    },
    {
      "cell_type": "code",
      "metadata": {
        "id": "R92g4DCrG6KS",
        "outputId": "6150c949-2efe-4f2f-e71f-ee6fcefa062a",
        "colab": {
          "base_uri": "https://localhost:8080/",
          "height": 35
        }
      },
      "source": [
        "x_train = np.reshape(x_train,(x_train.shape[0],x_train.shape[1],1))\n",
        "x_train.shape"
      ],
      "execution_count": 81,
      "outputs": [
        {
          "output_type": "execute_result",
          "data": {
            "text/plain": [
              "(8693, 60, 1)"
            ]
          },
          "metadata": {
            "tags": []
          },
          "execution_count": 81
        }
      ]
    },
    {
      "cell_type": "code",
      "metadata": {
        "id": "jKsBTnmMHCC6"
      },
      "source": [
        "model = Sequential()\n",
        "model.add(LSTM(50,return_sequences=True, input_shape = (x_train.shape[1],1)))\n",
        "model.add(LSTM(50,return_sequences=False))\n",
        "model.add(Dense(25))\n",
        "model.add(Dense(1))"
      ],
      "execution_count": 85,
      "outputs": []
    },
    {
      "cell_type": "code",
      "metadata": {
        "id": "A4KWknjaHoca"
      },
      "source": [
        "model.compile(optimizer = 'adam',loss = 'mean_squared_error')"
      ],
      "execution_count": 87,
      "outputs": []
    },
    {
      "cell_type": "code",
      "metadata": {
        "id": "i4iYRanCIr5i",
        "outputId": "5b7fab67-c4c3-431d-e2d7-de7714eb83c8",
        "colab": {
          "base_uri": "https://localhost:8080/",
          "height": 53
        }
      },
      "source": [
        "model.fit(x_train,y_train,batch_size = 1,epochs = 1)"
      ],
      "execution_count": 89,
      "outputs": [
        {
          "output_type": "stream",
          "text": [
            "8693/8693 [==============================] - 163s 19ms/step - loss: 6.5158e-04\n"
          ],
          "name": "stdout"
        },
        {
          "output_type": "execute_result",
          "data": {
            "text/plain": [
              "<tensorflow.python.keras.callbacks.History at 0x7f07d5b12828>"
            ]
          },
          "metadata": {
            "tags": []
          },
          "execution_count": 89
        }
      ]
    },
    {
      "cell_type": "code",
      "metadata": {
        "id": "sHR17AHhI2D7"
      },
      "source": [
        "test_data = scaled_data[training_data_len - 60:,:]\n",
        "x_test = []\n",
        "y_test = dataset[training_data_len:,:]"
      ],
      "execution_count": 90,
      "outputs": []
    },
    {
      "cell_type": "code",
      "metadata": {
        "id": "_3_we4K4LrWj"
      },
      "source": [
        "for i in range(60,len(test_data)):\n",
        "  x_test.append(test_data[i-60:i,0])"
      ],
      "execution_count": 91,
      "outputs": []
    },
    {
      "cell_type": "code",
      "metadata": {
        "id": "nCXisiHhL4O5"
      },
      "source": [
        "x_test = np.array(x_test)\n",
        "x_test = np.reshape(x_test,(x_test.shape[0],x_test.shape[1],1))"
      ],
      "execution_count": 94,
      "outputs": []
    },
    {
      "cell_type": "code",
      "metadata": {
        "id": "BRQ7Y36PMDmq"
      },
      "source": [
        "predictions = model.predict(x_test)"
      ],
      "execution_count": 95,
      "outputs": []
    },
    {
      "cell_type": "code",
      "metadata": {
        "id": "ZT_yMzoLMTjh"
      },
      "source": [
        "predictions = scaler.inverse_transform(predictions)"
      ],
      "execution_count": 96,
      "outputs": []
    },
    {
      "cell_type": "code",
      "metadata": {
        "id": "88Jj81EjMaDB",
        "outputId": "21f7afa4-4e73-4470-879b-3dab8ef3a8b8",
        "colab": {
          "base_uri": "https://localhost:8080/",
          "height": 143
        }
      },
      "source": [
        "predictions"
      ],
      "execution_count": 97,
      "outputs": [
        {
          "output_type": "execute_result",
          "data": {
            "text/plain": [
              "array([[ 4857.395 ],\n",
              "       [ 4843.228 ],\n",
              "       [ 4820.1494],\n",
              "       ...,\n",
              "       [23569.19  ],\n",
              "       [24204.375 ],\n",
              "       [24195.21  ]], dtype=float32)"
            ]
          },
          "metadata": {
            "tags": []
          },
          "execution_count": 97
        }
      ]
    },
    {
      "cell_type": "code",
      "metadata": {
        "id": "y1ZOiNGRMbhp",
        "outputId": "628108dc-2565-4de8-8b93-625783429c18",
        "colab": {
          "base_uri": "https://localhost:8080/",
          "height": 35
        }
      },
      "source": [
        "rmse = np.sqrt(np.mean(predictions-y_test)**2)\n",
        "rmse"
      ],
      "execution_count": 98,
      "outputs": [
        {
          "output_type": "execute_result",
          "data": {
            "text/plain": [
              "293.4949402190214"
            ]
          },
          "metadata": {
            "tags": []
          },
          "execution_count": 98
        }
      ]
    },
    {
      "cell_type": "code",
      "metadata": {
        "id": "4T2B3TnKMkOJ",
        "outputId": "9ae4011d-987a-407b-d01d-ce0c9e90c791",
        "colab": {
          "base_uri": "https://localhost:8080/",
          "height": 458
        }
      },
      "source": [
        "train = data[:training_data_len]\n",
        "valid = data[training_data_len:]\n",
        "valid['Predictions']=predictions\n",
        "plt.figure(figsize =(16,8))\n",
        "plt.title('Model')\n",
        "plt.xlabel('Date',fontsize=18)\n",
        "plt.ylabel('Close Price USD($)',fontsize=18)\n",
        "plt.plot(train['close'])\n",
        "plt.plot(valid[['close','Predictions']])\n",
        "plt.legend(['Train','Val','Predictions'],loc = 'lower right')\n",
        "plt.show()"
      ],
      "execution_count": 101,
      "outputs": [
        {
          "output_type": "stream",
          "text": [
            "/usr/local/lib/python3.6/dist-packages/ipykernel_launcher.py:3: SettingWithCopyWarning: \n",
            "A value is trying to be set on a copy of a slice from a DataFrame.\n",
            "Try using .loc[row_indexer,col_indexer] = value instead\n",
            "\n",
            "See the caveats in the documentation: https://pandas.pydata.org/pandas-docs/stable/user_guide/indexing.html#returning-a-view-versus-a-copy\n",
            "  This is separate from the ipykernel package so we can avoid doing imports until\n"
          ],
          "name": "stderr"
        },
        {
          "output_type": "display_data",
          "data": {
            "image/png": "[encoded data removed]",
            "text/plain": [
              "<Figure size 1152x576 with 1 Axes>"
            ]
          },
          "metadata": {
            "tags": []
          }
        }
      ]
    },
    {
      "cell_type": "code",
      "metadata": {
        "id": "Lva9dvIiNcKj",
        "outputId": "4bc3e44a-0ce9-4217-b0f9-d5292f72c993",
        "colab": {
          "base_uri": "https://localhost:8080/",
          "height": 450
        }
      },
      "source": [
        "valid"
      ],
      "execution_count": 102,
      "outputs": [
        {
          "output_type": "execute_result",
          "data": {
            "text/html": [
              "<div>\n",
              "<style scoped>\n",
              "    .dataframe tbody tr th:only-of-type {\n",
              "        vertical-align: middle;\n",
              "    }\n",
              "\n",
              "    .dataframe tbody tr th {\n",
              "        vertical-align: top;\n",
              "    }\n",
              "\n",
              "    .dataframe thead th {\n",
              "        text-align: right;\n",
              "    }\n",
              "</style>\n",
              "<table border=\"1\" class=\"dataframe\">\n",
              "  <thead>\n",
              "    <tr style=\"text-align: right;\">\n",
              "      <th></th>\n",
              "      <th>close</th>\n",
              "      <th>Predictions</th>\n",
              "    </tr>\n",
              "    <tr>\n",
              "      <th>date</th>\n",
              "      <th></th>\n",
              "      <th></th>\n",
              "    </tr>\n",
              "  </thead>\n",
              "  <tbody>\n",
              "    <tr>\n",
              "      <th>2011-11-18</th>\n",
              "      <td>4540</td>\n",
              "      <td>4857.395020</td>\n",
              "    </tr>\n",
              "    <tr>\n",
              "      <th>2011-11-21</th>\n",
              "      <td>4515</td>\n",
              "      <td>4843.228027</td>\n",
              "    </tr>\n",
              "    <tr>\n",
              "      <th>2011-11-22</th>\n",
              "      <td>4750</td>\n",
              "      <td>4820.149414</td>\n",
              "    </tr>\n",
              "    <tr>\n",
              "      <th>2011-11-23</th>\n",
              "      <td>4540</td>\n",
              "      <td>4939.050293</td>\n",
              "    </tr>\n",
              "    <tr>\n",
              "      <th>2011-11-24</th>\n",
              "      <td>4500</td>\n",
              "      <td>4906.017090</td>\n",
              "    </tr>\n",
              "    <tr>\n",
              "      <th>...</th>\n",
              "      <td>...</td>\n",
              "      <td>...</td>\n",
              "    </tr>\n",
              "    <tr>\n",
              "      <th>2020-09-29</th>\n",
              "      <td>21850</td>\n",
              "      <td>22109.337891</td>\n",
              "    </tr>\n",
              "    <tr>\n",
              "      <th>2020-10-05</th>\n",
              "      <td>24100</td>\n",
              "      <td>22173.523438</td>\n",
              "    </tr>\n",
              "    <tr>\n",
              "      <th>2020-10-06</th>\n",
              "      <td>23750</td>\n",
              "      <td>23569.189453</td>\n",
              "    </tr>\n",
              "    <tr>\n",
              "      <th>2020-10-07</th>\n",
              "      <td>23500</td>\n",
              "      <td>24204.375000</td>\n",
              "    </tr>\n",
              "    <tr>\n",
              "      <th>2020-10-08</th>\n",
              "      <td>24150</td>\n",
              "      <td>24195.210938</td>\n",
              "    </tr>\n",
              "  </tbody>\n",
              "</table>\n",
              "<p>2188 rows × 2 columns</p>\n",
              "</div>"
            ],
            "text/plain": [
              "            close   Predictions\n",
              "date                           \n",
              "2011-11-18   4540   4857.395020\n",
              "2011-11-21   4515   4843.228027\n",
              "2011-11-22   4750   4820.149414\n",
              "2011-11-23   4540   4939.050293\n",
              "2011-11-24   4500   4906.017090\n",
              "...           ...           ...\n",
              "2020-09-29  21850  22109.337891\n",
              "2020-10-05  24100  22173.523438\n",
              "2020-10-06  23750  23569.189453\n",
              "2020-10-07  23500  24204.375000\n",
              "2020-10-08  24150  24195.210938\n",
              "\n",
              "[2188 rows x 2 columns]"
            ]
          },
          "metadata": {
            "tags": []
          },
          "execution_count": 102
        }
      ]
    },
    {
      "cell_type": "code",
      "metadata": {
        "id": "fzVcpd9tNs8o",
        "outputId": "e5225617-c3ee-4829-a349-b5ff3adb7929",
        "colab": {
          "base_uri": "https://localhost:8080/",
          "height": 450
        }
      },
      "source": [
        "df_new = df_stock_default.copy()\n",
        "df_new"
      ],
      "execution_count": 105,
      "outputs": [
        {
          "output_type": "execute_result",
          "data": {
            "text/html": [
              "<div>\n",
              "<style scoped>\n",
              "    .dataframe tbody tr th:only-of-type {\n",
              "        vertical-align: middle;\n",
              "    }\n",
              "\n",
              "    .dataframe tbody tr th {\n",
              "        vertical-align: top;\n",
              "    }\n",
              "\n",
              "    .dataframe thead th {\n",
              "        text-align: right;\n",
              "    }\n",
              "</style>\n",
              "<table border=\"1\" class=\"dataframe\">\n",
              "  <thead>\n",
              "    <tr style=\"text-align: right;\">\n",
              "      <th></th>\n",
              "      <th>high</th>\n",
              "      <th>low</th>\n",
              "      <th>open</th>\n",
              "      <th>close</th>\n",
              "      <th>volume</th>\n",
              "    </tr>\n",
              "    <tr>\n",
              "      <th>date</th>\n",
              "      <th></th>\n",
              "      <th></th>\n",
              "      <th></th>\n",
              "      <th></th>\n",
              "      <th></th>\n",
              "    </tr>\n",
              "  </thead>\n",
              "  <tbody>\n",
              "    <tr>\n",
              "      <th>1980-01-04</th>\n",
              "      <td>4700</td>\n",
              "      <td>4700</td>\n",
              "      <td>4700</td>\n",
              "      <td>4700</td>\n",
              "      <td>0</td>\n",
              "    </tr>\n",
              "    <tr>\n",
              "      <th>1980-01-05</th>\n",
              "      <td>4700</td>\n",
              "      <td>4700</td>\n",
              "      <td>4700</td>\n",
              "      <td>4700</td>\n",
              "      <td>0</td>\n",
              "    </tr>\n",
              "    <tr>\n",
              "      <th>1980-01-07</th>\n",
              "      <td>4990</td>\n",
              "      <td>4990</td>\n",
              "      <td>4990</td>\n",
              "      <td>4990</td>\n",
              "      <td>120</td>\n",
              "    </tr>\n",
              "    <tr>\n",
              "      <th>1980-01-08</th>\n",
              "      <td>5290</td>\n",
              "      <td>5290</td>\n",
              "      <td>5290</td>\n",
              "      <td>5290</td>\n",
              "      <td>0</td>\n",
              "    </tr>\n",
              "    <tr>\n",
              "      <th>1980-01-09</th>\n",
              "      <td>5740</td>\n",
              "      <td>5700</td>\n",
              "      <td>5700</td>\n",
              "      <td>5700</td>\n",
              "      <td>190</td>\n",
              "    </tr>\n",
              "    <tr>\n",
              "      <th>...</th>\n",
              "      <td>...</td>\n",
              "      <td>...</td>\n",
              "      <td>...</td>\n",
              "      <td>...</td>\n",
              "      <td>...</td>\n",
              "    </tr>\n",
              "    <tr>\n",
              "      <th>2020-09-29</th>\n",
              "      <td>22050</td>\n",
              "      <td>20700</td>\n",
              "      <td>22000</td>\n",
              "      <td>21850</td>\n",
              "      <td>551123</td>\n",
              "    </tr>\n",
              "    <tr>\n",
              "      <th>2020-10-05</th>\n",
              "      <td>24350</td>\n",
              "      <td>21700</td>\n",
              "      <td>22200</td>\n",
              "      <td>24100</td>\n",
              "      <td>1094057</td>\n",
              "    </tr>\n",
              "    <tr>\n",
              "      <th>2020-10-06</th>\n",
              "      <td>24350</td>\n",
              "      <td>23350</td>\n",
              "      <td>24100</td>\n",
              "      <td>23750</td>\n",
              "      <td>463912</td>\n",
              "    </tr>\n",
              "    <tr>\n",
              "      <th>2020-10-07</th>\n",
              "      <td>23550</td>\n",
              "      <td>23100</td>\n",
              "      <td>23500</td>\n",
              "      <td>23500</td>\n",
              "      <td>322425</td>\n",
              "    </tr>\n",
              "    <tr>\n",
              "      <th>2020-10-08</th>\n",
              "      <td>24850</td>\n",
              "      <td>23600</td>\n",
              "      <td>23600</td>\n",
              "      <td>24150</td>\n",
              "      <td>699448</td>\n",
              "    </tr>\n",
              "  </tbody>\n",
              "</table>\n",
              "<p>10941 rows × 5 columns</p>\n",
              "</div>"
            ],
            "text/plain": [
              "             high    low   open  close   volume\n",
              "date                                           \n",
              "1980-01-04   4700   4700   4700   4700        0\n",
              "1980-01-05   4700   4700   4700   4700        0\n",
              "1980-01-07   4990   4990   4990   4990      120\n",
              "1980-01-08   5290   5290   5290   5290        0\n",
              "1980-01-09   5740   5700   5700   5700      190\n",
              "...           ...    ...    ...    ...      ...\n",
              "2020-09-29  22050  20700  22000  21850   551123\n",
              "2020-10-05  24350  21700  22200  24100  1094057\n",
              "2020-10-06  24350  23350  24100  23750   463912\n",
              "2020-10-07  23550  23100  23500  23500   322425\n",
              "2020-10-08  24850  23600  23600  24150   699448\n",
              "\n",
              "[10941 rows x 5 columns]"
            ]
          },
          "metadata": {
            "tags": []
          },
          "execution_count": 105
        }
      ]
    },
    {
      "cell_type": "code",
      "metadata": {
        "id": "zsaqSbgfOCrp"
      },
      "source": [
        "new_df = df_new.filter(['close'])\n",
        "last_60 = new_df[-60:].values"
      ],
      "execution_count": 106,
      "outputs": []
    },
    {
      "cell_type": "code",
      "metadata": {
        "id": "np5TXFFuOUf5"
      },
      "source": [
        "last_60_scaled = scaler.transform(last_60)"
      ],
      "execution_count": 108,
      "outputs": []
    },
    {
      "cell_type": "code",
      "metadata": {
        "id": "UDNeurFKOYzB"
      },
      "source": [
        "X_test = []\n",
        "X_test.append(last_60_scaled)"
      ],
      "execution_count": 109,
      "outputs": []
    },
    {
      "cell_type": "code",
      "metadata": {
        "id": "vCkUbuqLOejh"
      },
      "source": [
        "X_test = np.array(X_test)\n",
        "X_test = np.reshape(X_test,(X_test.shape[0],X_test.shape[1],1))"
      ],
      "execution_count": 110,
      "outputs": []
    },
    {
      "cell_type": "code",
      "metadata": {
        "id": "XpVcR1irOrBh"
      },
      "source": [
        "pred_price = model.predict(X_test)"
      ],
      "execution_count": 111,
      "outputs": []
    },
    {
      "cell_type": "code",
      "metadata": {
        "id": "JkHwPbajOw3x",
        "outputId": "4d4508a5-dfaa-43df-aa80-02c63255579d",
        "colab": {
          "base_uri": "https://localhost:8080/",
          "height": 35
        }
      },
      "source": [
        "pred_price = scaler.inverse_transform(pred_price)\n",
        "print(pred_price)"
      ],
      "execution_count": 112,
      "outputs": [
        {
          "output_type": "stream",
          "text": [
            "[[24438.248]]\n"
          ],
          "name": "stdout"
        }
      ]
    },
    {
      "cell_type": "code",
      "metadata": {
        "id": "KD2K8fPGO3S4"
      },
      "source": [
        ""
      ],
      "execution_count": null,
      "outputs": []
    }
  ]
}