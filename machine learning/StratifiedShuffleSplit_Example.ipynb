{
  "nbformat": 4,
  "nbformat_minor": 0,
  "metadata": {
    "colab": {
      "name": "StratifiedShuffleSplit_Example.ipynb",
      "provenance": [],
      "authorship_tag": "ABX9TyMeZaOa8pFcCUP1FXnXIchR",
      "include_colab_link": true
    },
    "kernelspec": {
      "name": "python3",
      "display_name": "Python 3"
    }
  },
  "cells": [
    {
      "cell_type": "markdown",
      "metadata": {
        "id": "view-in-github",
        "colab_type": "text"
      },
      "source": [
        "<a href=\"https://colab.research.google.com/github/hongsamhc2/devhiiostudy/blob/main/machine%20learning/StratifiedShuffleSplit_Example.ipynb\" target=\"_parent\"><img src=\"https://colab.research.google.com/assets/colab-badge.svg\" alt=\"Open In Colab\"/></a>"
      ]
    },
    {
      "cell_type": "code",
      "metadata": {
        "id": "Jm_7m3qCYnKU",
        "outputId": "4e1ed559-0ee0-4e12-ac68-7ee7bd8e80e9",
        "colab": {
          "base_uri": "https://localhost:8080/",
          "height": 179
        }
      },
      "source": [
        "import numpy as np\n",
        "from sklearn.model_selection import StratifiedShuffleSplit\n",
        "\n",
        "X = np.array([[1,2],[3,4],[1,2],[3,4],[1,2],[3,4]])\n",
        "y = np.array([0,0,0,1,1,1])\n",
        "\n",
        "print('X : \\n', X)\n",
        "print('y : \\n', y)"
      ],
      "execution_count": 6,
      "outputs": [
        {
          "output_type": "stream",
          "text": [
            "X : \n",
            " [[1 2]\n",
            " [3 4]\n",
            " [1 2]\n",
            " [3 4]\n",
            " [1 2]\n",
            " [3 4]]\n",
            "y : \n",
            " [0 0 0 1 1 1]\n"
          ],
          "name": "stdout"
        }
      ]
    },
    {
      "cell_type": "code",
      "metadata": {
        "id": "AY7FvSkUY3tE",
        "outputId": "250f476a-b2c4-4d19-b40f-d299628b6820",
        "colab": {
          "base_uri": "https://localhost:8080/",
          "height": 53
        }
      },
      "source": [
        "split = StratifiedShuffleSplit(n_splits = 5 , test_size = 0.5, random_state = 0)\n",
        "\n",
        "print(split)"
      ],
      "execution_count": 9,
      "outputs": [
        {
          "output_type": "stream",
          "text": [
            "StratifiedShuffleSplit(n_splits=5, random_state=0, test_size=0.5,\n",
            "            train_size=None)\n"
          ],
          "name": "stdout"
        }
      ]
    },
    {
      "cell_type": "code",
      "metadata": {
        "id": "Oz0VHgFHax2C",
        "outputId": "58c4abc8-7fb9-4c70-bac5-4776bdbde1ed",
        "colab": {
          "base_uri": "https://localhost:8080/",
          "height": 35
        }
      },
      "source": [
        "split.get_n_splits(X, y)"
      ],
      "execution_count": 11,
      "outputs": [
        {
          "output_type": "execute_result",
          "data": {
            "text/plain": [
              "5"
            ]
          },
          "metadata": {
            "tags": []
          },
          "execution_count": 11
        }
      ]
    },
    {
      "cell_type": "code",
      "metadata": {
        "id": "eYubHUU-b9KH",
        "outputId": "ce7844f4-c95f-48c5-c154-485e2f68697d",
        "colab": {
          "base_uri": "https://localhost:8080/",
          "height": 35
        }
      },
      "source": [
        "split.split(X,y)"
      ],
      "execution_count": 12,
      "outputs": [
        {
          "output_type": "execute_result",
          "data": {
            "text/plain": [
              "<generator object BaseShuffleSplit.split at 0x7f255c0b05c8>"
            ]
          },
          "metadata": {
            "tags": []
          },
          "execution_count": 12
        }
      ]
    },
    {
      "cell_type": "code",
      "metadata": {
        "id": "fihGZ_KNdRaZ",
        "outputId": "2d014009-0fc7-459f-b306-72c182a4be26",
        "colab": {
          "base_uri": "https://localhost:8080/",
          "height": 107
        }
      },
      "source": [
        "for train_index , test_index in split.split(X,y):\n",
        "  print('train_index : ', train_index, 'test_index : ', test_index)"
      ],
      "execution_count": 14,
      "outputs": [
        {
          "output_type": "stream",
          "text": [
            "train_index :  [5 2 3] test_index :  [4 1 0]\n",
            "train_index :  [5 1 4] test_index :  [0 2 3]\n",
            "train_index :  [5 0 2] test_index :  [4 3 1]\n",
            "train_index :  [4 1 0] test_index :  [2 3 5]\n",
            "train_index :  [0 5 1] test_index :  [3 4 2]\n"
          ],
          "name": "stdout"
        }
      ]
    },
    {
      "cell_type": "code",
      "metadata": {
        "id": "CshVPgujd28h"
      },
      "source": [
        ""
      ],
      "execution_count": null,
      "outputs": []
    }
  ]
}