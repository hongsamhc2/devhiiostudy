{
 "cells": [
  {
   "cell_type": "code",
   "execution_count": 1,
   "metadata": {},
   "outputs": [
    {
     "data": {
      "text/plain": [
       "<matplotlib.collections.PathCollection at 0x2d22fb0e848>"
      ]
     },
     "execution_count": 1,
     "metadata": {},
     "output_type": "execute_result"
    },
    {
     "data": {
      "image/png": "[encoded data removed]",
      "text/plain": [
       "<Figure size 432x288 with 1 Axes>"
      ]
     },
     "metadata": {
      "needs_background": "light"
     },
     "output_type": "display_data"
    }
   ],
   "source": [
    "import numpy as np\n",
    "import matplotlib.pyplot as plt\n",
    "%matplotlib inline\n",
    "\n",
    "np.random.seed(0)\n",
    "\n",
    "X = 2*np.random.rand(100,1)\n",
    "y=6+4*X+np.random.randn(100,1)\n",
    "plt.scatter(X,y)"
   ]
  },
  {
   "cell_type": "code",
   "execution_count": 2,
   "metadata": {},
   "outputs": [],
   "source": [
    "def get_weight_updates(w1,w0,X,y,learning_rate=0.01):\n",
    "    N = len(y)\n",
    "    w1_update=np.zeros_like(w1)\n",
    "    w0_update=np.zeros_like(w0)\n",
    "    y_pred = np.dot(X,w1.T)+w0\n",
    "    diff=y-y_pred\n",
    "    w0_factors=np.ones((N,1))\n",
    "    w1_update=-(2/N)*learning_rate*(np.dot(X.T,diff))\n",
    "    w0_update = -(2/N)*learning_rate*(np.dot(w0_factors.T,diff))\n",
    "    return w1_update,w0_update\n",
    "\n"
   ]
  },
  {
   "cell_type": "code",
   "execution_count": 3,
   "metadata": {},
   "outputs": [],
   "source": [
    "def gradient_descent_steps(X,y,iters=10000):\n",
    "    w0 = np.zeros((1,1))\n",
    "    w1=np.zeros((1,1))\n",
    "    \n",
    "    for ind in range(iters):\n",
    "        w1_update,w0_update = get_weight_updates(w1,w0,X,y,learning_rate=0.01)\n",
    "        w1 = w1-w1_update\n",
    "        w0=w0-w0_update\n",
    "    return w1,w0\n"
   ]
  },
  {
   "cell_type": "code",
   "execution_count": 4,
   "metadata": {},
   "outputs": [],
   "source": [
    "def get_cost(y,y_pred):\n",
    "    N=len(y)\n",
    "    cost = np.sum(np.square(y-y_pred))/N\n",
    "    return cost\n"
   ]
  },
  {
   "cell_type": "code",
   "execution_count": 5,
   "metadata": {},
   "outputs": [
    {
     "name": "stdout",
     "output_type": "stream",
     "text": [
      "w1:3.968 w0:6.222\n",
      "Gradient Descent Total Cost:0.9924\n"
     ]
    }
   ],
   "source": [
    "w1,w0 = gradient_descent_steps(X,y,iters=10000)\n",
    "print('w1:{0:.3f} w0:{1:.3f}'.format(w1[0,0],w0[0,0]))\n",
    "y_pred = w1[0,0]*X+w0\n",
    "print('Gradient Descent Total Cost:{0:.4f}'.format(get_cost(y,y_pred)))"
   ]
  },
  {
   "cell_type": "code",
   "execution_count": 6,
   "metadata": {},
   "outputs": [
    {
     "data": {
      "text/plain": [
       "[<matplotlib.lines.Line2D at 0x2d23044aa48>]"
      ]
     },
     "execution_count": 6,
     "metadata": {},
     "output_type": "execute_result"
    },
    {
     "data": {
      "image/png": "[encoded data removed]",
      "text/plain": [
       "<Figure size 432x288 with 1 Axes>"
      ]
     },
     "metadata": {
      "needs_background": "light"
     },
     "output_type": "display_data"
    }
   ],
   "source": [
    "plt.scatter(X,y)\n",
    "plt.plot(X,y_pred)"
   ]
  },
  {
   "cell_type": "code",
   "execution_count": 7,
   "metadata": {},
   "outputs": [],
   "source": [
    "def stochastic_gradient_descent_steps(X,y,batch_size=10,iters=1000):\n",
    "    w0=np.zeros((1,1))\n",
    "    w1=np.zeros((1,1))\n",
    "    prev_cost = 100000\n",
    "    iter_index =0\n",
    "    for ind in range(iters):\n",
    "        np.random.seed(ind)\n",
    "        stochastic_random_index=np.random.permutation(X.shape[0])\n",
    "        sample_X = X[stochastic_random_index[0:batch_size]]\n",
    "        sample_y = y[stochastic_random_index[0:batch_size]]\n",
    "        w1_update,w0_update = get_weight_updates(w1,w0,sample_X,sample_y,learning_rate=0.01)\n",
    "        w1 = w1-w1_update\n",
    "        w0=w0-w0_update\n",
    "    return w1,w0"
   ]
  },
  {
   "cell_type": "code",
   "execution_count": 8,
   "metadata": {},
   "outputs": [
    {
     "name": "stdout",
     "output_type": "stream",
     "text": [
      "w1: 4.028 w0: 6.156\n",
      "Stochastic Gradient Descent Total Cost:0.9937\n"
     ]
    }
   ],
   "source": [
    "w1,w0 = stochastic_gradient_descent_steps(X,y,iters=1000)\n",
    "print('w1:',round(w1[0,0],3),'w0:',round(w0[0,0],3))\n",
    "y_pred = w1[0,0]*X+w0\n",
    "print('Stochastic Gradient Descent Total Cost:{0:.4f}'.format(get_cost(y,y_pred)))"
   ]
  },
  {
   "cell_type": "code",
   "execution_count": 9,
   "metadata": {},
   "outputs": [],
   "source": [
    "# 다항회귀와 과대적합\n",
    "\n",
    "import numpy as np\n",
    "import matplotlib.pyplot as plt\n",
    "import pandas as pd\n",
    "import seaborn as sns\n",
    "from scipy import stats\n",
    "from sklearn.datasets import load_boston\n",
    "%matplotlib inline"
   ]
  },
  {
   "cell_type": "code",
   "execution_count": 10,
   "metadata": {},
   "outputs": [
    {
     "name": "stdout",
     "output_type": "stream",
     "text": [
      "일차 단항식 계수 피쳐:\n",
      " [[0 1]\n",
      " [2 3]]\n",
      "변환된 2차 다항식 계수 피쳐:\n",
      " [[1. 0. 1. 0. 0. 1.]\n",
      " [1. 2. 3. 4. 6. 9.]]\n"
     ]
    }
   ],
   "source": [
    "from sklearn.preprocessing import PolynomialFeatures\n",
    "import numpy as np\n",
    "\n",
    "X = np.arange(4).reshape(2,2)\n",
    "print('일차 단항식 계수 피쳐:\\n',X)\n",
    "\n",
    "poly = PolynomialFeatures(degree=2)\n",
    "poly.fit(X)\n",
    "poly_ftr = poly.transform(X)\n",
    "print('변환된 2차 다항식 계수 피쳐:\\n',poly_ftr)"
   ]
  },
  {
   "cell_type": "code",
   "execution_count": 11,
   "metadata": {},
   "outputs": [],
   "source": [
    "def polynomial_func(X):\n",
    "    y = 1+2*X+X**2+X**3\n",
    "    return y\n",
    "\n"
   ]
  },
  {
   "cell_type": "code",
   "execution_count": 12,
   "metadata": {},
   "outputs": [
    {
     "name": "stdout",
     "output_type": "stream",
     "text": [
      "X\n",
      "[[ 1  5]\n",
      " [17 43]]\n"
     ]
    }
   ],
   "source": [
    "X = np.arange(4).reshape(2,2)\n",
    "print('X')\n",
    "\n",
    "y =polynomial_func(X)\n",
    "print(y)"
   ]
  },
  {
   "cell_type": "code",
   "execution_count": 13,
   "metadata": {},
   "outputs": [
    {
     "name": "stdout",
     "output_type": "stream",
     "text": [
      "[[ 1.  0.  1.  0.  0.  1.  0.  0.  0.  1.]\n",
      " [ 1.  2.  3.  4.  6.  9.  8. 12. 18. 27.]]\n"
     ]
    }
   ],
   "source": [
    "poly_ftr = PolynomialFeatures(degree=3).fit_transform(X)\n",
    "print(poly_ftr)"
   ]
  },
  {
   "cell_type": "code",
   "execution_count": 14,
   "metadata": {},
   "outputs": [
    {
     "name": "stdout",
     "output_type": "stream",
     "text": [
      "[[0.   0.02 0.02 0.05 0.07 0.1  0.1  0.14 0.22 0.31]\n",
      " [0.   0.06 0.06 0.11 0.17 0.23 0.23 0.34 0.51 0.74]]\n",
      "(2, 10)\n"
     ]
    }
   ],
   "source": [
    "from sklearn.linear_model import LinearRegression\n",
    "model = LinearRegression()\n",
    "model.fit(poly_ftr,y)\n",
    "print(np.round(model.coef_,2))\n",
    "print(model.coef_.shape)"
   ]
  },
  {
   "cell_type": "code",
   "execution_count": 15,
   "metadata": {},
   "outputs": [],
   "source": [
    "from sklearn.pipeline import Pipeline\n",
    "from sklearn.model_selection import cross_val_score\n",
    "def polynomial_func(X):\n",
    "    y =1+2*X+X**2+X**3\n",
    "    return y\n",
    "\n",
    "model = Pipeline([('poly',PolynomialFeatures(degree=2)),('linear',LinearRegression())])\n",
    "X = np.arange(4).reshape(2,2)\n",
    "y = polynomial_func(X)"
   ]
  },
  {
   "cell_type": "code",
   "execution_count": 16,
   "metadata": {},
   "outputs": [],
   "source": [
    "model = model.fit(X,y)"
   ]
  },
  {
   "cell_type": "code",
   "execution_count": 17,
   "metadata": {},
   "outputs": [
    {
     "name": "stdout",
     "output_type": "stream",
     "text": [
      "[[0.   0.26 0.26 0.52 0.77 1.03]\n",
      " [0.   0.61 0.61 1.23 1.84 2.45]]\n"
     ]
    }
   ],
   "source": [
    "print(np.round(model.named_steps['linear'].coef_,2))"
   ]
  },
  {
   "cell_type": "code",
   "execution_count": 18,
   "metadata": {},
   "outputs": [],
   "source": [
    "def true_fun(X):\n",
    "    return np.cos(1.5*np.pi*X)"
   ]
  },
  {
   "cell_type": "code",
   "execution_count": 19,
   "metadata": {},
   "outputs": [],
   "source": [
    "np.random.seed(0)\n",
    "n_samples =30\n",
    "X =np.sort(np.random.rand(n_samples))\n"
   ]
  },
  {
   "cell_type": "code",
   "execution_count": 20,
   "metadata": {},
   "outputs": [],
   "source": [
    "y = true_fun(X)+np.random.randn(n_samples)*0.1"
   ]
  },
  {
   "cell_type": "code",
   "execution_count": 21,
   "metadata": {},
   "outputs": [
    {
     "name": "stdout",
     "output_type": "stream",
     "text": [
      "1 [-2.] 2\n",
      "1 0.40772896250986834\n",
      "4 [  0. -18.  24.  -7.] 2\n",
      "4 0.04320874987231747\n",
      "15 [-2.98300000e+03  1.03900000e+05 -1.87417100e+06  2.03717220e+07\n",
      " -1.44873987e+08  7.09318780e+08 -2.47066977e+09  6.24564048e+09\n",
      " -1.15677067e+10  1.56895696e+10 -1.54006776e+10  1.06457788e+10\n",
      " -4.91379977e+09  1.35920330e+09 -1.70381654e+08] 2\n",
      "15 182815433.47648773\n"
     ]
    },
    {
     "data": {
      "image/png": "[encoded data removed]",
      "text/plain": [
       "<Figure size 1008x360 with 3 Axes>"
      ]
     },
     "metadata": {},
     "output_type": "display_data"
    }
   ],
   "source": [
    "plt.figure(figsize=(14,5))\n",
    "degrees = [1,4,15]\n",
    "\n",
    "for i in range(len(degrees)):\n",
    "    ax = plt.subplot(1,len(degrees),i+1)\n",
    "    plt.setp(ax,xticks=(),yticks=())\n",
    "    polynomial_features = PolynomialFeatures(degree=degrees[i],include_bias = False)\n",
    "    linear_regression = LinearRegression()\n",
    "    pipeline = Pipeline([('polynomial_features',polynomial_features),('linear_regression',linear_regression)])\n",
    "    pipeline.fit(X.reshape(-1,1),y)\n",
    "    scores = cross_val_score(pipeline,X.reshape(-1,1),y,scoring ='neg_mean_squared_error',cv=10)\n",
    "    coefficients = pipeline.named_steps['linear_regression'].coef_\n",
    "    print(degrees[i],np.round(coefficients),2)\n",
    "    print(degrees[i],-1*np.mean(scores))\n",
    "    X_test = np.linspace(0,1,100)\n",
    "    plt.plot(X_test,pipeline.predict(X_test[:,np.newaxis]),label = 'Model')\n",
    "    plt.scatter(X,y,edgecolor='b',s=20,label='Sample')\n",
    "    plt.xlabel('x')\n",
    "    plt.ylabel('y')\n",
    "    plt.xlim((0,1))\n",
    "    plt.ylim((-2,2))\n",
    "    plt.legend(loc='best')\n",
    "    plt.title('degree')\n",
    "plt.show()"
   ]
  },
  {
   "cell_type": "code",
   "execution_count": null,
   "metadata": {},
   "outputs": [],
   "source": []
  }
 ],
 "metadata": {
  "kernelspec": {
   "display_name": "ml01-02",
   "language": "python",
   "name": "ml01-02"
  },
  "language_info": {
   "codemirror_mode": {
    "name": "ipython",
    "version": 3
   },
   "file_extension": ".py",
   "mimetype": "text/x-python",
   "name": "python",
   "nbconvert_exporter": "python",
   "pygments_lexer": "ipython3",
   "version": "3.7.7"
  }
 },
 "nbformat": 4,
 "nbformat_minor": 4
}
