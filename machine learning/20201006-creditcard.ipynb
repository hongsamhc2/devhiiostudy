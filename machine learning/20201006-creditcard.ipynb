{
 "cells": [
  {
   "cell_type": "code",
   "execution_count": 1,
   "metadata": {},
   "outputs": [
    {
     "data": {
      "text/html": [
       "<div>\n",
       "<style scoped>\n",
       "    .dataframe tbody tr th:only-of-type {\n",
       "        vertical-align: middle;\n",
       "    }\n",
       "\n",
       "    .dataframe tbody tr th {\n",
       "        vertical-align: top;\n",
       "    }\n",
       "\n",
       "    .dataframe thead th {\n",
       "        text-align: right;\n",
       "    }\n",
       "</style>\n",
       "<table border=\"1\" class=\"dataframe\">\n",
       "  <thead>\n",
       "    <tr style=\"text-align: right;\">\n",
       "      <th></th>\n",
       "      <th>Time</th>\n",
       "      <th>V1</th>\n",
       "      <th>V2</th>\n",
       "      <th>V3</th>\n",
       "      <th>V4</th>\n",
       "      <th>V5</th>\n",
       "      <th>V6</th>\n",
       "      <th>V7</th>\n",
       "      <th>V8</th>\n",
       "      <th>V9</th>\n",
       "      <th>...</th>\n",
       "      <th>V21</th>\n",
       "      <th>V22</th>\n",
       "      <th>V23</th>\n",
       "      <th>V24</th>\n",
       "      <th>V25</th>\n",
       "      <th>V26</th>\n",
       "      <th>V27</th>\n",
       "      <th>V28</th>\n",
       "      <th>Amount</th>\n",
       "      <th>Class</th>\n",
       "    </tr>\n",
       "  </thead>\n",
       "  <tbody>\n",
       "    <tr>\n",
       "      <th>0</th>\n",
       "      <td>0.0</td>\n",
       "      <td>-1.359807</td>\n",
       "      <td>-0.072781</td>\n",
       "      <td>2.536347</td>\n",
       "      <td>1.378155</td>\n",
       "      <td>-0.338321</td>\n",
       "      <td>0.462388</td>\n",
       "      <td>0.239599</td>\n",
       "      <td>0.098698</td>\n",
       "      <td>0.363787</td>\n",
       "      <td>...</td>\n",
       "      <td>-0.018307</td>\n",
       "      <td>0.277838</td>\n",
       "      <td>-0.110474</td>\n",
       "      <td>0.066928</td>\n",
       "      <td>0.128539</td>\n",
       "      <td>-0.189115</td>\n",
       "      <td>0.133558</td>\n",
       "      <td>-0.021053</td>\n",
       "      <td>149.62</td>\n",
       "      <td>0</td>\n",
       "    </tr>\n",
       "    <tr>\n",
       "      <th>1</th>\n",
       "      <td>0.0</td>\n",
       "      <td>1.191857</td>\n",
       "      <td>0.266151</td>\n",
       "      <td>0.166480</td>\n",
       "      <td>0.448154</td>\n",
       "      <td>0.060018</td>\n",
       "      <td>-0.082361</td>\n",
       "      <td>-0.078803</td>\n",
       "      <td>0.085102</td>\n",
       "      <td>-0.255425</td>\n",
       "      <td>...</td>\n",
       "      <td>-0.225775</td>\n",
       "      <td>-0.638672</td>\n",
       "      <td>0.101288</td>\n",
       "      <td>-0.339846</td>\n",
       "      <td>0.167170</td>\n",
       "      <td>0.125895</td>\n",
       "      <td>-0.008983</td>\n",
       "      <td>0.014724</td>\n",
       "      <td>2.69</td>\n",
       "      <td>0</td>\n",
       "    </tr>\n",
       "    <tr>\n",
       "      <th>2</th>\n",
       "      <td>1.0</td>\n",
       "      <td>-1.358354</td>\n",
       "      <td>-1.340163</td>\n",
       "      <td>1.773209</td>\n",
       "      <td>0.379780</td>\n",
       "      <td>-0.503198</td>\n",
       "      <td>1.800499</td>\n",
       "      <td>0.791461</td>\n",
       "      <td>0.247676</td>\n",
       "      <td>-1.514654</td>\n",
       "      <td>...</td>\n",
       "      <td>0.247998</td>\n",
       "      <td>0.771679</td>\n",
       "      <td>0.909412</td>\n",
       "      <td>-0.689281</td>\n",
       "      <td>-0.327642</td>\n",
       "      <td>-0.139097</td>\n",
       "      <td>-0.055353</td>\n",
       "      <td>-0.059752</td>\n",
       "      <td>378.66</td>\n",
       "      <td>0</td>\n",
       "    </tr>\n",
       "  </tbody>\n",
       "</table>\n",
       "<p>3 rows × 31 columns</p>\n",
       "</div>"
      ],
      "text/plain": [
       "   Time        V1        V2        V3        V4        V5        V6        V7  \\\n",
       "0   0.0 -1.359807 -0.072781  2.536347  1.378155 -0.338321  0.462388  0.239599   \n",
       "1   0.0  1.191857  0.266151  0.166480  0.448154  0.060018 -0.082361 -0.078803   \n",
       "2   1.0 -1.358354 -1.340163  1.773209  0.379780 -0.503198  1.800499  0.791461   \n",
       "\n",
       "         V8        V9  ...       V21       V22       V23       V24       V25  \\\n",
       "0  0.098698  0.363787  ... -0.018307  0.277838 -0.110474  0.066928  0.128539   \n",
       "1  0.085102 -0.255425  ... -0.225775 -0.638672  0.101288 -0.339846  0.167170   \n",
       "2  0.247676 -1.514654  ...  0.247998  0.771679  0.909412 -0.689281 -0.327642   \n",
       "\n",
       "        V26       V27       V28  Amount  Class  \n",
       "0 -0.189115  0.133558 -0.021053  149.62      0  \n",
       "1  0.125895 -0.008983  0.014724    2.69      0  \n",
       "2 -0.139097 -0.055353 -0.059752  378.66      0  \n",
       "\n",
       "[3 rows x 31 columns]"
      ]
     },
     "execution_count": 1,
     "metadata": {},
     "output_type": "execute_result"
    }
   ],
   "source": [
    "import pandas as pd\n",
    "import numpy as np\n",
    "import matplotlib.pyplot as plt\n",
    "import warnings\n",
    "warnings.filterwarnings('ignore')\n",
    "%matplotlib inline\n",
    "\n",
    "card_df = pd.read_csv('./data/creditcard.csv/creditcard.csv')\n",
    "card_df.head(3)"
   ]
  },
  {
   "cell_type": "code",
   "execution_count": 2,
   "metadata": {},
   "outputs": [],
   "source": [
    "from sklearn.model_selection import train_test_split\n",
    "\n",
    "def get_preprocessed_df(df=None):\n",
    "    df_copy=df.copy()\n",
    "    df_copy.drop('Time',axis=1,inplace=True)\n",
    "    return df_copy"
   ]
  },
  {
   "cell_type": "code",
   "execution_count": 3,
   "metadata": {},
   "outputs": [],
   "source": [
    "def get_train_test_dataset(df=None):\n",
    "    df_copy=get_preprocessed_df(df)\n",
    "    X_features=df_copy.iloc[:,:-1]\n",
    "    y_target=df_copy.iloc[:,-1]\n",
    "    X_train,X_test,y_train,y_test = train_test_split(X_features,y_target,test_size=0.3,random_state=0 ,stratify=y_target)\n",
    "    return X_train,X_test,y_train,y_test"
   ]
  },
  {
   "cell_type": "code",
   "execution_count": 4,
   "metadata": {},
   "outputs": [],
   "source": [
    "X_train,X_test,y_train,y_test = get_train_test_dataset(card_df)"
   ]
  },
  {
   "cell_type": "code",
   "execution_count": 5,
   "metadata": {},
   "outputs": [
    {
     "name": "stdout",
     "output_type": "stream",
     "text": [
      "학습 데이터 레이블 값 비율\n",
      "0    99.827451\n",
      "1     0.172549\n",
      "Name: Class, dtype: float64\n",
      "데스트 데이터 레이블 값 비율\n",
      "0    99.826785\n",
      "1     0.173215\n",
      "Name: Class, dtype: float64\n"
     ]
    }
   ],
   "source": [
    "print('학습 데이터 레이블 값 비율')\n",
    "print(y_train.value_counts()/y_train.shape[0]*100)\n",
    "print('데스트 데이터 레이블 값 비율')\n",
    "print(y_test.value_counts()/y_test.shape[0]*100)"
   ]
  },
  {
   "cell_type": "code",
   "execution_count": 6,
   "metadata": {},
   "outputs": [],
   "source": [
    "from sklearn.model_selection import train_test_split\n",
    "from sklearn.metrics import accuracy_score,precision_score,recall_score,roc_auc_score\n",
    "from sklearn.metrics import f1_score,confusion_matrix,precision_recall_curve, roc_curve\n",
    "from sklearn.preprocessing import StandardScaler\n",
    "from sklearn.linear_model import LogisticRegression\n",
    "def get_clf_eval(y_test,pred):\n",
    "    confusion = confusion_matrix(y_test,pred)\n",
    "    accuracy =accuracy_score(y_test,pred)\n",
    "    precision=precision_score( y_test,pred)\n",
    "    recall = recall_score(y_test,pred)\n",
    "    f1= f1_score(y_test,pred)\n",
    "    roc_auc = roc_auc_score(y_test,pred)\n",
    "    print('오차행렬')\n",
    "    print(confusion)\n",
    "    print('정확도:{0:4f}, 정밀도:{1:4f},재현율:{2:4f},F1:{3:4f},AUC:{4:4f}'.format(accuracy,precision,recall,f1,roc_auc))"
   ]
  },
  {
   "cell_type": "code",
   "execution_count": 7,
   "metadata": {},
   "outputs": [
    {
     "name": "stdout",
     "output_type": "stream",
     "text": [
      "오차행렬\n",
      "[[85282    13]\n",
      " [   57    91]]\n",
      "정확도:0.999181, 정밀도:0.875000,재현율:0.614865,F1:0.722222,AUC:0.807356\n"
     ]
    }
   ],
   "source": [
    "from sklearn.linear_model import LogisticRegression\n",
    "\n",
    "lr_clf = LogisticRegression()\n",
    "lr_clf.fit(X_train,y_train)\n",
    "lr_pred = lr_clf.predict(X_test)\n",
    "get_clf_eval(y_test,lr_pred)"
   ]
  },
  {
   "cell_type": "code",
   "execution_count": 8,
   "metadata": {},
   "outputs": [],
   "source": [
    "def get_model_train_eval(model,ftr_train=None,ftr_test=None, tgt_train=None,tgt_test=None):\n",
    "    model.fit(ftr_train,tgt_train)\n",
    "    pred = model.predict(ftr_test)\n",
    "    get_clf_eval(tgt_test,pred)"
   ]
  },
  {
   "cell_type": "code",
   "execution_count": 9,
   "metadata": {},
   "outputs": [
    {
     "name": "stdout",
     "output_type": "stream",
     "text": [
      "오차행렬\n",
      "[[85290     5]\n",
      " [   36   112]]\n",
      "정확도:0.999520, 정밀도:0.957265,재현율:0.756757,F1:0.845283,AUC:0.878349\n"
     ]
    }
   ],
   "source": [
    "from lightgbm import LGBMClassifier\n",
    "lgbm_clf = LGBMClassifier(n_estimators=1000,\n",
    "                         num_leaves=64,\n",
    "                         n_jobs=-1,\n",
    "                         boost_from_average=False)\n",
    "get_model_train_eval(lgbm_clf,ftr_train=X_train,ftr_test=X_test,tgt_train=y_train,tgt_test=y_test)"
   ]
  },
  {
   "cell_type": "code",
   "execution_count": 10,
   "metadata": {},
   "outputs": [
    {
     "data": {
      "text/plain": [
       "<AxesSubplot:xlabel='Amount', ylabel='Density'>"
      ]
     },
     "execution_count": 10,
     "metadata": {},
     "output_type": "execute_result"
    },
    {
     "data": {
      "image/png": "[encoded data removed]",
      "text/plain": [
       "<Figure size 576x288 with 1 Axes>"
      ]
     },
     "metadata": {
      "needs_background": "light"
     },
     "output_type": "display_data"
    }
   ],
   "source": [
    "import seaborn as sns\n",
    "\n",
    "plt.figure(figsize=(8,4))\n",
    "plt.xticks(range(0,3000,1000),rotation=60)\n",
    "sns.distplot(card_df['Amount'])"
   ]
  },
  {
   "cell_type": "code",
   "execution_count": null,
   "metadata": {},
   "outputs": [],
   "source": []
  },
  {
   "cell_type": "code",
   "execution_count": 11,
   "metadata": {},
   "outputs": [],
   "source": [
    "from sklearn.preprocessing import StandardScaler\n",
    "def get_preprocessed_df(df=None):\n",
    "    df_copy = df.copy()\n",
    "    scaler = StandardScaler()\n",
    "    amount_n = scaler.fit_transform(df_copy['Amount'].values.reshape(-1,1))\n",
    "    df_copy.insert(0,'Amount_Scaled',amount_n)\n",
    "    df_copy.drop(['Time','Amount'],axis=1,inplace=True)\n",
    "    return df_copy"
   ]
  },
  {
   "cell_type": "code",
   "execution_count": 12,
   "metadata": {},
   "outputs": [
    {
     "name": "stdout",
     "output_type": "stream",
     "text": [
      "### 로지스틱 회귀 예측 성능###\n",
      "오차행렬\n",
      "[[85281    14]\n",
      " [   58    90]]\n",
      "정확도:0.999157, 정밀도:0.865385,재현율:0.608108,F1:0.714286,AUC:0.803972\n",
      "###LightGBM예측성능###\n",
      "오차행렬\n",
      "[[85290     5]\n",
      " [   37   111]]\n",
      "정확도:0.999508, 정밀도:0.956897,재현율:0.750000,F1:0.840909,AUC:0.874971\n"
     ]
    }
   ],
   "source": [
    "X_train, X_test, y_train, y_test = get_train_test_dataset(card_df)\n",
    "print('### 로지스틱 회귀 예측 성능###')\n",
    "lr_clf = LogisticRegression()\n",
    "get_model_train_eval(lr_clf,ftr_train=X_train,ftr_test = X_test, tgt_train=y_train, tgt_test=y_test)\n",
    "print('###LightGBM예측성능###')\n",
    "lgm_clf = LGBMClassifier(n_estimators=1000,num_leaves=64,n_jobs=1)\n",
    "get_model_train_eval(lgbm_clf,ftr_train=X_train,ftr_test=X_test,tgt_train=y_train,tgt_test=y_test)"
   ]
  },
  {
   "cell_type": "code",
   "execution_count": 13,
   "metadata": {},
   "outputs": [],
   "source": [
    "def get_preprocessed_df(df=None):\n",
    "    df_copy = df.copy()\n",
    "    amount_n = np.log1p(df_copy['Amount'])\n",
    "    df_copy.insert(0,'Amount_Scaled',amount_n)\n",
    "    df_copy.drop(['Time','Amount'],axis=1,inplace=True)\n",
    "    return df_copy\n",
    "X_train, X_test, y_train, y_test = get_train_test_dataset(card_df)"
   ]
  },
  {
   "cell_type": "code",
   "execution_count": 14,
   "metadata": {},
   "outputs": [
    {
     "name": "stdout",
     "output_type": "stream",
     "text": [
      "### 로지스틱 회귀 예측 성능###\n",
      "오차행렬\n",
      "[[85283    12]\n",
      " [   59    89]]\n",
      "정확도:0.999169, 정밀도:0.881188,재현율:0.601351,F1:0.714859,AUC:0.800605\n",
      "###LightGBM예측성능###\n",
      "오차행렬\n",
      "[[85290     5]\n",
      " [   35   113]]\n",
      "정확도:0.999532, 정밀도:0.957627,재현율:0.763514,F1:0.849624,AUC:0.881727\n"
     ]
    }
   ],
   "source": [
    "X_train, X_test, y_train, y_test = get_train_test_dataset(card_df)\n",
    "print('### 로지스틱 회귀 예측 성능###')\n",
    "get_model_train_eval(lr_clf,ftr_train=X_train,ftr_test = X_test, tgt_train=y_train, tgt_test=y_test)\n",
    "print('###LightGBM예측성능###')\n",
    "get_model_train_eval(lgbm_clf,ftr_train=X_train,ftr_test=X_test,tgt_train=y_train,tgt_test=y_test)"
   ]
  },
  {
   "cell_type": "code",
   "execution_count": 15,
   "metadata": {},
   "outputs": [
    {
     "data": {
      "text/plain": [
       "<AxesSubplot:>"
      ]
     },
     "execution_count": 15,
     "metadata": {},
     "output_type": "execute_result"
    },
    {
     "data": {
      "image/png": "[encoded data removed]",
      "text/plain": [
       "<Figure size 648x648 with 2 Axes>"
      ]
     },
     "metadata": {
      "needs_background": "light"
     },
     "output_type": "display_data"
    }
   ],
   "source": [
    "plt.figure(figsize=(9,9))\n",
    "corr=card_df.corr()\n",
    "sns.heatmap(corr,cmap='RdBu')"
   ]
  },
  {
   "cell_type": "code",
   "execution_count": 16,
   "metadata": {},
   "outputs": [],
   "source": [
    "import numpy as np\n",
    "\n",
    "def get_outlier(df=None,column=None,weight=1.5):\n",
    "    fraud =df[df['Class']==1][column]\n",
    "    quantile_25= np.percentile(fraud.values,25)\n",
    "    quantile_75=np.percentile(fraud.values,75)\n",
    "    iqr = quantile_75 -quantile_25\n",
    "    iqr_weight = iqr*weight\n",
    "    lowest_val = quantile_25-iqr_weight\n",
    "    highest_val = quantile_75 + iqr_weight\n",
    "    outlier_index = fraud[(fraud<lowest_val)|(fraud>highest_val)].index\n",
    "    return outlier_index"
   ]
  },
  {
   "cell_type": "code",
   "execution_count": 17,
   "metadata": {},
   "outputs": [
    {
     "name": "stdout",
     "output_type": "stream",
     "text": [
      "이상치 데이터 인덱스: Int64Index([8296, 8615, 9035, 9252], dtype='int64')\n"
     ]
    }
   ],
   "source": [
    "outlier_index = get_outlier(df=card_df,column='V14',weight=1.5)\n",
    "print('이상치 데이터 인덱스:',outlier_index)"
   ]
  },
  {
   "cell_type": "code",
   "execution_count": 18,
   "metadata": {},
   "outputs": [],
   "source": [
    "def get_preprocessed_df(df=None):\n",
    "    df_copy = df.copy()\n",
    "    amount_n = np.log1p(df_copy['Amount'])\n",
    "    df_copy.insert(0,'Amount_Scaled',amount_n)\n",
    "    df_copy.drop(['Time','Amount'],axis=1,inplace=True)\n",
    "    outlier_index = get_outlier(df=df_copy,column='V14',weight = 1.5)\n",
    "    df_copy.drop(outlier_index,axis=0,inplace=True)\n",
    "    return df_copy"
   ]
  },
  {
   "cell_type": "code",
   "execution_count": 19,
   "metadata": {},
   "outputs": [
    {
     "name": "stdout",
     "output_type": "stream",
     "text": [
      "### 로지스틱 회귀 예측 성능###\n",
      "오차행렬\n",
      "[[85281    14]\n",
      " [   48    98]]\n",
      "정확도:0.999274, 정밀도:0.875000,재현율:0.671233,F1:0.759690,AUC:0.835534\n",
      "###LightGBM예측성능###\n",
      "오차행렬\n",
      "[[85290     5]\n",
      " [   25   121]]\n",
      "정확도:0.999649, 정밀도:0.960317,재현율:0.828767,F1:0.889706,AUC:0.914354\n"
     ]
    }
   ],
   "source": [
    "X_train, X_test, y_train, y_test = get_train_test_dataset(card_df)\n",
    "print('### 로지스틱 회귀 예측 성능###')\n",
    "get_model_train_eval(lr_clf,ftr_train=X_train,ftr_test = X_test, tgt_train=y_train, tgt_test=y_test)\n",
    "print('###LightGBM예측성능###')\n",
    "get_model_train_eval(lgbm_clf,ftr_train=X_train,ftr_test=X_test,tgt_train=y_train,tgt_test=y_test)"
   ]
  },
  {
   "cell_type": "markdown",
   "metadata": {},
   "source": [
    "### SMOTE 오버 샘플링 적용 후 모델 학습/예측/평가"
   ]
  },
  {
   "cell_type": "code",
   "execution_count": 20,
   "metadata": {},
   "outputs": [],
   "source": [
    "from imblearn.over_sampling import SMOTE\n",
    "smote = SMOTE(random_state=0)"
   ]
  },
  {
   "cell_type": "code",
   "execution_count": 21,
   "metadata": {},
   "outputs": [],
   "source": [
    "X_train_over , y_train_over = smote.fit_sample(X_train,y_train)"
   ]
  },
  {
   "cell_type": "code",
   "execution_count": 22,
   "metadata": {},
   "outputs": [
    {
     "name": "stdout",
     "output_type": "stream",
     "text": [
      "SMOTE 적용 전 학습용 피쳐/레이블 데이터 세트: (199362, 29) (199362,)\n",
      "SMOTE 적용 후 학습용 피쳐/레이블 데이터 세트: (398040, 29) (398040,)\n",
      "SMOTE 적용 후 레이블 값 분포: \n",
      " 1    199020\n",
      "0    199020\n",
      "Name: Class, dtype: int64\n"
     ]
    }
   ],
   "source": [
    "print('SMOTE 적용 전 학습용 피쳐/레이블 데이터 세트:',X_train.shape,y_train.shape)\n",
    "print('SMOTE 적용 후 학습용 피쳐/레이블 데이터 세트:',X_train_over.shape,y_train_over.shape)\n",
    "print('SMOTE 적용 후 레이블 값 분포: \\n',pd.Series(y_train_over).value_counts())"
   ]
  },
  {
   "cell_type": "code",
   "execution_count": 23,
   "metadata": {},
   "outputs": [],
   "source": [
    "lr_clf = LogisticRegression()"
   ]
  },
  {
   "cell_type": "code",
   "execution_count": 24,
   "metadata": {},
   "outputs": [
    {
     "name": "stdout",
     "output_type": "stream",
     "text": [
      "오차행렬\n",
      "[[82937  2358]\n",
      " [   11   135]]\n",
      "정확도:0.972273, 정밀도:0.054152,재현율:0.924658,F1:0.102311,AUC:0.948506\n"
     ]
    }
   ],
   "source": [
    "get_model_train_eval(lr_clf,ftr_train=X_train_over, ftr_test=X_test,tgt_train=y_train_over,tgt_test=y_test)"
   ]
  },
  {
   "cell_type": "code",
   "execution_count": 25,
   "metadata": {},
   "outputs": [
    {
     "data": {
      "image/png": "[encoded data removed]",
      "text/plain": [
       "<Figure size 576x432 with 1 Axes>"
      ]
     },
     "metadata": {
      "needs_background": "light"
     },
     "output_type": "display_data"
    }
   ],
   "source": [
    "def precision_recall_curve_plot(y_test,pred_proba_c1):\n",
    "    precisions,recalls,thresholds=precision_recall_curve(y_test,pred_proba_c1)\n",
    "    plt.figure(figsize=(8,6))\n",
    "    threshold_boundary=thresholds.shape[0]\n",
    "    plt.plot(thresholds,precisions[0:threshold_boundary],linestyle='--',label='precision')\n",
    "    plt.plot(thresholds,recalls[0:threshold_boundary],label='recall')\n",
    "    \n",
    "    start,end = plt.xlim()\n",
    "    plt.xticks(np.round(np.arange(start,end,0.1),2))\n",
    "    plt.xlabel('Threshold value')\n",
    "    plt.ylabel('Precision and Recall value')\n",
    "    plt.legend()\n",
    "    plt.grid()\n",
    "    plt.show()\n",
    "\n",
    "precision_recall_curve_plot(y_test,lr_clf.predict_proba(X_test)[:,-1])"
   ]
  },
  {
   "cell_type": "code",
   "execution_count": 26,
   "metadata": {},
   "outputs": [],
   "source": [
    "lgbm_clf = LGBMClassifier(n_estimators=1000,num_leaves=64,n_jobs=-1,boost_from_average=False)"
   ]
  },
  {
   "cell_type": "code",
   "execution_count": 27,
   "metadata": {},
   "outputs": [
    {
     "name": "stdout",
     "output_type": "stream",
     "text": [
      "오차행렬\n",
      "[[85283    12]\n",
      " [   22   124]]\n",
      "정확도:0.999602, 정밀도:0.911765,재현율:0.849315,F1:0.879433,AUC:0.924587\n"
     ]
    }
   ],
   "source": [
    "get_model_train_eval(lgbm_clf,ftr_train=X_train_over, ftr_test=X_test,tgt_train=y_train_over,tgt_test=y_test)"
   ]
  },
  {
   "cell_type": "code",
   "execution_count": 28,
   "metadata": {},
   "outputs": [],
   "source": [
    "import numpy as np\n",
    "\n",
    "from sklearn.neighbors import KNeighborsClassifier\n",
    "from sklearn.ensemble import RandomForestClassifier\n",
    "from sklearn.ensemble import AdaBoostClassifier\n",
    "from sklearn.tree import DecisionTreeClassifier\n",
    "from sklearn.linear_model import LogisticRegression\n",
    "\n",
    "from sklearn.datasets import load_breast_cancer\n",
    "from sklearn.model_selection import train_test_split\n",
    "from sklearn.metrics import accuracy_score\n",
    "\n",
    "cancer_data = load_breast_cancer()\n",
    "\n",
    "X_data = cancer_data.data\n",
    "y_label = cancer_data.target\n",
    "X_train,X_test,y_train,y_test = train_test_split(X_data,y_label,test_size=0.2,random_state=0)"
   ]
  },
  {
   "cell_type": "code",
   "execution_count": 29,
   "metadata": {},
   "outputs": [],
   "source": [
    "knn_clf = KNeighborsClassifier(n_neighbors=4)\n",
    "rf_clf = RandomForestClassifier(n_estimators=100,random_state=0)\n",
    "dt_clf = DecisionTreeClassifier()\n",
    "ada_clf = AdaBoostClassifier(n_estimators=100)\n",
    "\n",
    "lr_final = LogisticRegression(C=10)"
   ]
  },
  {
   "cell_type": "code",
   "execution_count": 30,
   "metadata": {},
   "outputs": [
    {
     "data": {
      "text/plain": [
       "AdaBoostClassifier(n_estimators=100)"
      ]
     },
     "execution_count": 30,
     "metadata": {},
     "output_type": "execute_result"
    }
   ],
   "source": [
    "knn_clf.fit(X_train,y_train)\n",
    "rf_clf.fit(X_train,y_train)\n",
    "dt_clf.fit(X_train,y_train)\n",
    "ada_clf.fit(X_train,y_train)"
   ]
  },
  {
   "cell_type": "code",
   "execution_count": 31,
   "metadata": {},
   "outputs": [],
   "source": [
    "knn_pred = knn_clf.predict(X_test)\n",
    "rf_pred = rf_clf.predict(X_test)\n",
    "dt_pred = dt_clf.predict(X_test)\n",
    "ada_pred = ada_clf.predict(X_test)\n"
   ]
  },
  {
   "cell_type": "code",
   "execution_count": 32,
   "metadata": {},
   "outputs": [
    {
     "name": "stdout",
     "output_type": "stream",
     "text": [
      "KNN 정확도 : 0.921053\n",
      "램덤포레스트 정확도 : 0.964912\n",
      "결정트리 정확도 : 0.912281\n",
      "에이다부스트 정확도 : 0.956140\n"
     ]
    }
   ],
   "source": [
    "print('KNN 정확도 : {0:4f}'.format(accuracy_score(y_test,knn_pred)))\n",
    "print('램덤포레스트 정확도 : {0:4f}'.format(accuracy_score(y_test,rf_pred)))\n",
    "print('결정트리 정확도 : {0:4f}'.format(accuracy_score(y_test,dt_pred)))\n",
    "print('에이다부스트 정확도 : {0:4f}'.format(accuracy_score(y_test,ada_pred)))"
   ]
  },
  {
   "cell_type": "code",
   "execution_count": 33,
   "metadata": {},
   "outputs": [],
   "source": [
    "pred = np.array([knn_pred,rf_pred,dt_pred,ada_pred])"
   ]
  },
  {
   "cell_type": "code",
   "execution_count": 34,
   "metadata": {},
   "outputs": [
    {
     "name": "stdout",
     "output_type": "stream",
     "text": [
      "(4, 114)\n"
     ]
    }
   ],
   "source": [
    "print(pred.shape)"
   ]
  },
  {
   "cell_type": "code",
   "execution_count": 35,
   "metadata": {},
   "outputs": [
    {
     "name": "stdout",
     "output_type": "stream",
     "text": [
      "(114, 4)\n"
     ]
    }
   ],
   "source": [
    "pred= np.transpose(pred)\n",
    "print(pred.shape)"
   ]
  },
  {
   "cell_type": "code",
   "execution_count": 36,
   "metadata": {},
   "outputs": [],
   "source": [
    "lr_final.fit(pred,y_test)\n",
    "final=lr_final.predict(pred)"
   ]
  },
  {
   "cell_type": "code",
   "execution_count": 37,
   "metadata": {},
   "outputs": [
    {
     "name": "stdout",
     "output_type": "stream",
     "text": [
      "최종 메타 모델의 예측 정확도 : 0.973684\n"
     ]
    }
   ],
   "source": [
    "print('최종 메타 모델의 예측 정확도 : {0:4f}'.format(accuracy_score(y_test,final)))"
   ]
  },
  {
   "cell_type": "code",
   "execution_count": 38,
   "metadata": {},
   "outputs": [],
   "source": [
    "from sklearn.model_selection import KFold\n",
    "from sklearn.metrics import mean_absolute_error\n",
    "\n",
    "def get_stacking_base_datasets(model,X_train_n, y_train_n, X_test_n, n_folds):\n",
    "    kf = KFold(n_splits=n_folds, shuffle=False, random_state=0)\n",
    "    train_fold_pred = np.zeros((X_train_n.shape[0],1))\n",
    "    test_pred=np.zeros((X_test_n.shape[0],n_folds))\n",
    "    print(model.__class__.__name__,'model 시작')\n",
    "    for folder_counter,(train_index,valid_index) in enumerate(kf.split(X_train_n)):\n",
    "        print('\\t 폴드 세트:',folder_counter,'시작')\n",
    "        X_tr = X_train_n[train_index]\n",
    "        y_tr = y_train_n[train_index]\n",
    "        X_te = X_train_n[valid_index]\n",
    "        \n",
    "        model.fit(X_tr,y_tr)\n",
    "        \n",
    "        train_fold_pred[valid_index,:]=model.predict(X_te).reshape(-1,1)\n",
    "        test_pred[:,folder_counter] = model.predict(X_test_n)\n",
    "    test_pred_mean = np.mean(test_pred,axis=1).reshape(-1,1)\n",
    "    return train_fold_pred, test_pred_mean"
   ]
  },
  {
   "cell_type": "code",
   "execution_count": 39,
   "metadata": {},
   "outputs": [
    {
     "name": "stdout",
     "output_type": "stream",
     "text": [
      "KNeighborsClassifier model 시작\n",
      "\t 폴드 세트: 0 시작\n",
      "\t 폴드 세트: 1 시작\n",
      "\t 폴드 세트: 2 시작\n",
      "\t 폴드 세트: 3 시작\n",
      "\t 폴드 세트: 4 시작\n",
      "\t 폴드 세트: 5 시작\n",
      "\t 폴드 세트: 6 시작\n",
      "RandomForestClassifier model 시작\n",
      "\t 폴드 세트: 0 시작\n",
      "\t 폴드 세트: 1 시작\n",
      "\t 폴드 세트: 2 시작\n",
      "\t 폴드 세트: 3 시작\n",
      "\t 폴드 세트: 4 시작\n",
      "\t 폴드 세트: 5 시작\n",
      "\t 폴드 세트: 6 시작\n",
      "DecisionTreeClassifier model 시작\n",
      "\t 폴드 세트: 0 시작\n",
      "\t 폴드 세트: 1 시작\n",
      "\t 폴드 세트: 2 시작\n",
      "\t 폴드 세트: 3 시작\n",
      "\t 폴드 세트: 4 시작\n",
      "\t 폴드 세트: 5 시작\n",
      "\t 폴드 세트: 6 시작\n",
      "AdaBoostClassifier model 시작\n",
      "\t 폴드 세트: 0 시작\n",
      "\t 폴드 세트: 1 시작\n",
      "\t 폴드 세트: 2 시작\n",
      "\t 폴드 세트: 3 시작\n",
      "\t 폴드 세트: 4 시작\n",
      "\t 폴드 세트: 5 시작\n",
      "\t 폴드 세트: 6 시작\n"
     ]
    }
   ],
   "source": [
    "knn_train,knn_test = get_stacking_base_datasets(knn_clf,X_train,y_train,X_test,7)\n",
    "rf_train,rf_test = get_stacking_base_datasets(rf_clf,X_train,y_train,X_test,7)\n",
    "dt_train,dt_test = get_stacking_base_datasets(dt_clf,X_train,y_train,X_test,7)\n",
    "ada_train,ada_test = get_stacking_base_datasets(ada_clf,X_train,y_train,X_test,7)"
   ]
  },
  {
   "cell_type": "code",
   "execution_count": 40,
   "metadata": {},
   "outputs": [],
   "source": [
    "stack_final_X_train = np.concatenate((knn_train,rf_train,dt_train,ada_train),axis=1)\n",
    "stack_final_X_test = np.concatenate((knn_test,rf_test,dt_test,ada_test),axis=1)"
   ]
  },
  {
   "cell_type": "code",
   "execution_count": 41,
   "metadata": {},
   "outputs": [
    {
     "name": "stdout",
     "output_type": "stream",
     "text": [
      "스태킹 학습 피처 텨데이터 Shape: (455, 4) 스태킹 데스트 피처 데이터 Shape: (114, 4)\n"
     ]
    }
   ],
   "source": [
    "print('스태킹 학습 피처 텨데이터 Shape:', stack_final_X_train.shape,\n",
    "     '스태킹 데스트 피처 데이터 Shape:',stack_final_X_test.shape)"
   ]
  },
  {
   "cell_type": "code",
   "execution_count": 42,
   "metadata": {},
   "outputs": [],
   "source": [
    "lr_final.fit(stack_final_X_train,y_train)\n",
    "stack_final = lr_final.predict(stack_final_X_test)"
   ]
  },
  {
   "cell_type": "code",
   "execution_count": 43,
   "metadata": {},
   "outputs": [
    {
     "name": "stdout",
     "output_type": "stream",
     "text": [
      "최종 메타 모델의 예측 정확도:0.973684\n"
     ]
    }
   ],
   "source": [
    "print('최종 메타 모델의 예측 정확도:{0:4f}'.format(accuracy_score(y_test,stack_final)))"
   ]
  },
  {
   "cell_type": "code",
   "execution_count": null,
   "metadata": {},
   "outputs": [],
   "source": []
  }
 ],
 "metadata": {
  "kernelspec": {
   "display_name": "ml01-02",
   "language": "python",
   "name": "ml01-02"
  },
  "language_info": {
   "codemirror_mode": {
    "name": "ipython",
    "version": 3
   },
   "file_extension": ".py",
   "mimetype": "text/x-python",
   "name": "python",
   "nbconvert_exporter": "python",
   "pygments_lexer": "ipython3",
   "version": "3.7.7"
  }
 },
 "nbformat": 4,
 "nbformat_minor": 4
}
